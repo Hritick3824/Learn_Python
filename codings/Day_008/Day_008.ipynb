{
 "cells": [
  {
   "cell_type": "markdown",
   "id": "326e3192",
   "metadata": {},
   "source": [
    "# Fuctions\n",
    "\n",
    "Functions are the block of codes\n",
    "\n",
    "***Syntax***\n",
    "\n",
    "def my_function():\n",
    "    \n",
    "    # Do this\n",
    "    \n",
    "    # Then do this\n",
    "    \n",
    "    # Finally do this\n",
    "    \n",
    "my_function()\n"
   ]
  },
  {
   "cell_type": "code",
   "execution_count": 1,
   "id": "d8a33139",
   "metadata": {},
   "outputs": [
    {
     "name": "stdout",
     "output_type": "stream",
     "text": [
      "Hi\n",
      "Hello\n",
      "Welcome\n"
     ]
    }
   ],
   "source": [
    "# Example\n",
    "\n",
    "# Create a Function called greet\n",
    "\n",
    "def greet():\n",
    "\n",
    "    # Write 3 print statements inside the function\n",
    "    \n",
    "    print(\"Hi\")\n",
    "    \n",
    "    print(\"Hello\")\n",
    "    \n",
    "    print(\"Welcome\")\n",
    "    \n",
    "# Call the greet() function and run your code\n",
    "\n",
    "greet()"
   ]
  },
  {
   "cell_type": "markdown",
   "id": "bd676387",
   "metadata": {},
   "source": [
    "# Fuctions with Inputs\n",
    "\n",
    "***Syntax***\n",
    "\n",
    "def my_function(Something):\n",
    "    \n",
    "    # Do this with something\n",
    "    \n",
    "    # Then do this with something\n",
    "    \n",
    "    # Finally do this with something\n",
    "    \n",
    "my_function(123)    # now 123 be something\n"
   ]
  },
  {
   "cell_type": "code",
   "execution_count": 2,
   "id": "d21838dd",
   "metadata": {},
   "outputs": [
    {
     "name": "stdout",
     "output_type": "stream",
     "text": [
      "Hi aswin\n",
      "Hello aswin\n",
      "Welcome aswin\n"
     ]
    }
   ],
   "source": [
    "# Example\n",
    "\n",
    "# Create a Function called greet with a input\n",
    "\n",
    "def greet(name):\n",
    "\n",
    "    # Write 3 print statements inside the function\n",
    "    \n",
    "    print(f\"Hi {name}\")               # the name will be the input here\n",
    "    \n",
    "    print(f\"Hello {name}\")\n",
    "    \n",
    "    print(f\"Welcome {name}\")\n",
    "    \n",
    "# assign a input variable for the function\n",
    "\n",
    "a = \"aswin\"\n",
    "\n",
    "# Call the greet() function and run your code\n",
    "\n",
    "greet(a)     # now the 'a' value s replaced in the function which is called\n",
    "\n",
    "# here in 'greet(name)' name is known as parameter \n",
    "# a is the "
   ]
  },
  {
   "cell_type": "code",
   "execution_count": 3,
   "id": "c9f764f9",
   "metadata": {},
   "outputs": [
    {
     "name": "stdout",
     "output_type": "stream",
     "text": [
      "hello aswin\n",
      "what is it like in Coimbatore\n"
     ]
    }
   ],
   "source": [
    "# function with more than 1 input\n",
    "\n",
    "def greet_with(name, location):\n",
    "    \n",
    "    print(f\"hello {name}\")\n",
    "    \n",
    "    print(f\"what is it like in {location}\")\n",
    "    \n",
    "greet_with(\"aswin\", \"Coimbatore\")"
   ]
  },
  {
   "cell_type": "code",
   "execution_count": 5,
   "id": "0ae3adce",
   "metadata": {},
   "outputs": [
    {
     "name": "stdout",
     "output_type": "stream",
     "text": [
      "hello aswin\n",
      "what is it like in Coimbatore\n",
      "positional arguments 1: None\n",
      "hello coimbatore\n",
      "what is it like in aswin\n",
      "positional arguments 2: None\n"
     ]
    }
   ],
   "source": [
    "# Positional arguments\n",
    "\n",
    "def greet_with(name, location):\n",
    "    \n",
    "    print(f\"hello {name}\")\n",
    "    \n",
    "    print(f\"what is it like in {location}\")\n",
    "    \n",
    "print(\"positional arguments 1:\", greet_with(\"aswin\", \"Coimbatore\"))\n",
    "\n",
    "# compare above and below.. it is meaningless it depends on position of the parameters\n",
    "\n",
    "print(\"positional arguments 2:\", greet_with(\"coimbatore\", \"aswin\"))"
   ]
  },
  {
   "cell_type": "code",
   "execution_count": 6,
   "id": "d8355933",
   "metadata": {},
   "outputs": [
    {
     "name": "stdout",
     "output_type": "stream",
     "text": [
      "hello aswin\n",
      "what is it like in Coimbatore\n"
     ]
    }
   ],
   "source": [
    "# Keyword argument\n",
    "\n",
    "def greet_with(name, location):\n",
    "    \n",
    "    print(f\"hello {name}\")\n",
    "    \n",
    "    print(f\"what is it like in {location}\")\n",
    "    \n",
    "greet_with(name = \"aswin\", location = \"Coimbatore\")\n",
    "\n",
    "# in keyword argument the value or the key of the parameter is\n",
    "\n",
    "# assigned to the parameter."
   ]
  },
  {
   "cell_type": "markdown",
   "id": "454a6630",
   "metadata": {},
   "source": [
    "# Task\n",
    "\n",
    "You are going to paint a wall. The instructions on the paint can says that 1 can of paint can cover 5 square meters of wall. given a random height and width of wall. Calculate how many cans of paint you'll need to buy.\n",
    "\n",
    "***no.of.cans = (wall height * wall width) / coverage per can***\n",
    "\n",
    "The output must be rounded"
   ]
  },
  {
   "cell_type": "code",
   "execution_count": 13,
   "id": "36339e9a",
   "metadata": {},
   "outputs": [
    {
     "name": "stdout",
     "output_type": "stream",
     "text": [
      "Height of the wall: 2\n",
      "Width of the wall: 4\n"
     ]
    },
    {
     "data": {
      "text/plain": [
       "2"
      ]
     },
     "execution_count": 13,
     "metadata": {},
     "output_type": "execute_result"
    }
   ],
   "source": [
    "# write our code below the line\n",
    "\n",
    "import math\n",
    "\n",
    "def paint_calc(height, width, cover):\n",
    "    \n",
    "    area = height * width\n",
    "    \n",
    "    cans_needed = area / cover\n",
    "    \n",
    "    return math.ceil(cans_needed)          # math.ceil ==> rounds the float value\n",
    "\n",
    "# write your code above the line\n",
    "\n",
    "# ------------------------------------------\n",
    "\n",
    "# don't change the code below\n",
    "\n",
    "test_h = int(input(\"Height of the wall: \"))\n",
    "\n",
    "test_w = int(input(\"Width of the wall: \"))\n",
    "\n",
    "coverage = 5\n",
    "\n",
    "paint_calc(height = test_h, width = test_w, cover = coverage)\n",
    "\n",
    "# don't change the code above\n",
    "\n",
    "# -----------------------------------------"
   ]
  },
  {
   "cell_type": "markdown",
   "id": "cbd39066",
   "metadata": {},
   "source": [
    "# Task\n",
    "\n",
    "## Prime Number Checker\n",
    "\n",
    "Complete the code below"
   ]
  },
  {
   "cell_type": "code",
   "execution_count": 17,
   "id": "65c85d78",
   "metadata": {},
   "outputs": [
    {
     "name": "stdout",
     "output_type": "stream",
     "text": [
      "Check this number: 4\n",
      "the number is not a prime number\n"
     ]
    }
   ],
   "source": [
    "# Write you code below this line\n",
    "\n",
    "def prime_checker(number):\n",
    "    \n",
    "    is_prime = True\n",
    "    \n",
    "    for i in range(2, number):\n",
    "        \n",
    "        if number % i == 0:\n",
    "            \n",
    "            is_prime = False\n",
    "            \n",
    "    if is_prime:\n",
    "        \n",
    "        print(\"the number is a prime number\")\n",
    "        \n",
    "    else:\n",
    "        \n",
    "        print(\"the number is not a prime number\")\n",
    "\n",
    "# write your code above this line\n",
    "\n",
    "# -------------------------\n",
    "\n",
    "# don't change the code below\n",
    "\n",
    "n = int(input(\"Check this number: \"))\n",
    "\n",
    "prime_checker(number = n)\n",
    "\n",
    "# don't change the codde above\n",
    "\n",
    "# --------------------------"
   ]
  },
  {
   "cell_type": "markdown",
   "id": "6a9061ee",
   "metadata": {},
   "source": [
    "# Ceaser - Cipher\n",
    "\n",
    "https://www.geeksforgeeks.org/caesar-cipher-in-cryptography/\n",
    "\n",
    "Build a ceaser cipher code by following clue\n",
    "\n",
    "***Step - 1***\n",
    "\n",
    "TODO-1: Create a function called 'encrypt' that takes the 'text' and 'shift' as inputs.\n",
    "\n",
    "    TODO-2: Inside the 'encrypt' function, shift each letter of the 'text' forwards in the alphabet by the shift amount and print the encrypted text.  \n",
    "    #e.g. \n",
    "    #plain_text = \"hello\"\n",
    "    #shift = 5\n",
    "    #cipher_text = \"mjqqt\"\n",
    "    #print output: \"The encoded text is mjqqt\"\n",
    "\n",
    "    ##HINT: How do you get the index of an item in a list:\n",
    "    #https://stackoverflow.com/questions/176918/finding-the-index-of-an-item-in-a-list\n",
    "\n",
    "    ##🐛Bug alert: What happens if you try to encode the word 'civilization'?🐛\n",
    "\n",
    "TODO-3: Call the encrypt function and pass in the user inputs. You should be able to test the code and encrypt a message.\n",
    "\n",
    "***step - 2***\n",
    "\n",
    "#TODO-1: Create a different function called 'decrypt' that takes the 'text' and 'shift' as inputs.\n",
    "\n",
    "  #TODO-2: Inside the 'decrypt' function, shift each letter of the 'text' *backwards* in the alphabet by the shift amount and print the decrypted text.  \n",
    "  #e.g. \n",
    "  #cipher_text = \"mjqqt\"\n",
    "  #shift = 5\n",
    "  #plain_text = \"hello\"\n",
    "  #print output: \"The decoded text is hello\"\n",
    "\n",
    "\n",
    "#TODO-3: Check if the user wanted to encrypt or decrypt the message by checking the 'direction' variable. Then call the correct function based on that 'drection' variable. You should be able to test the code to encrypt *AND* decrypt a message.\n",
    "\n",
    "***Step - 3***\n",
    "\n",
    "#TODO-1: Combine the encrypt() and decrypt() functions into a single function called caesar(). \n",
    "\n",
    "#TODO-2: Call the caesar() function, passing over the 'text', 'shift' and 'direction' values.\n",
    "\n",
    "***Step - 4***\n",
    "\n",
    "#To add a nice user interface"
   ]
  },
  {
   "cell_type": "code",
   "execution_count": 47,
   "id": "6904feb0",
   "metadata": {},
   "outputs": [
    {
     "name": "stdout",
     "output_type": "stream",
     "text": [
      "Welcome to \n",
      "           \n",
      " ,adPPYba, ,adPPYYba,  ,adPPYba, ,adPPYba, ,adPPYYba, 8b,dPPYba,  \n",
      "a8\"     \"\" \"\"     `Y8 a8P_____88 I8[    \"\" \"\"     `Y8 88P'   \"Y8  \n",
      "8b         ,adPPPPP88 8PP\"  `\"Y8ba,  ,adPPPPP88 88          \n",
      "\"8a,   ,aa 88,    ,88 \"8b,   ,aa aa    ]8I 88,    ,88 88          \n",
      " `\"Ybbd8\"' `\"8bbdP\"Y8  `\"Ybbd8\"' `\"YbbdP\"' `\"8bbdP\"Y8 88   \n",
      "            88             88                                 \n",
      "           \"\"             88                                 \n",
      "                          88                                 \n",
      " ,adPPYba, 88 8b,dPPYba,  88,dPPYba,   ,adPPYba, 8b,dPPYba,  \n",
      "a8\"     \"\" 88 88P'    \"8a 88P'    \"8a a8P_____88 88P'   \"Y8  \n",
      "8b         88 88       d8 88       88 8PP\" 88          \n",
      "\"8a,   ,aa 88 88b,   ,a8\" 88       88 \"8b,   ,aa 88          \n",
      " `\"Ybbd8\"' 88 88`YbbdP\"'  88       88  `\"Ybbd8\"' 88          \n",
      "              88                                             \n",
      "              88           \n",
      "\n",
      "Type 'encode' to encrypt, type 'decode' to decrypt:\n",
      "encode\n",
      "Type your message:\n",
      "Civilization\n",
      "Type the shift number:\n",
      "5\n",
      "the encrypted message is hnanqnefynts\n",
      "Enter 'Y' to repeat the task, else enter 'N' to end the task :N\n",
      "Good bye..!\n"
     ]
    }
   ],
   "source": [
    "# list of the alphabets\n",
    "\n",
    "alphabet = ['a', 'b', 'c', 'd', 'e', 'f', 'g', 'h', 'i', 'j', 'k', 'l', 'm', 'n',\n",
    "            'o', 'p', 'q', 'r', 's', 't', 'u', 'v', 'w', 'x', 'y', 'z', 'a', 'b',\n",
    "            'c', 'd', 'e', 'f', 'g', 'h', 'i', 'j', 'k', 'l', 'm', 'n', 'o', 'p',\n",
    "            'q', 'r', 's', 't', 'u', 'v', 'w', 'x', 'y', 'z']\n",
    "logo = \"\"\"           \n",
    " ,adPPYba, ,adPPYYba,  ,adPPYba, ,adPPYba, ,adPPYYba, 8b,dPPYba,  \n",
    "a8\"     \"\" \"\"     `Y8 a8P_____88 I8[    \"\" \"\"     `Y8 88P'   \"Y8  \n",
    "8b         ,adPPPPP88 8PP\"\"\"\"\"\"\"  `\"Y8ba,  ,adPPPPP88 88          \n",
    "\"8a,   ,aa 88,    ,88 \"8b,   ,aa aa    ]8I 88,    ,88 88          \n",
    " `\"Ybbd8\"' `\"8bbdP\"Y8  `\"Ybbd8\"' `\"YbbdP\"' `\"8bbdP\"Y8 88   \n",
    "            88             88                                 \n",
    "           \"\"             88                                 \n",
    "                          88                                 \n",
    " ,adPPYba, 88 8b,dPPYba,  88,dPPYba,   ,adPPYba, 8b,dPPYba,  \n",
    "a8\"     \"\" 88 88P'    \"8a 88P'    \"8a a8P_____88 88P'   \"Y8  \n",
    "8b         88 88       d8 88       88 8PP\"\"\"\"\"\"\" 88          \n",
    "\"8a,   ,aa 88 88b,   ,a8\" 88       88 \"8b,   ,aa 88          \n",
    " `\"Ybbd8\"' 88 88`YbbdP\"'  88       88  `\"Ybbd8\"' 88          \n",
    "              88                                             \n",
    "              88           \n",
    "\"\"\"\n",
    "\n",
    "        \n",
    "print(f\"Welcome to \\n{logo}\")\n",
    "\n",
    "#Encryption\n",
    "\n",
    "def encrypt(text, shift):\n",
    "    \n",
    "    encrypted = []\n",
    "    \n",
    "    for i in text:\n",
    "        \n",
    "        index_i = alphabet.index(str(i))\n",
    "        \n",
    "        encrypted.append(alphabet[index_i + shift])\n",
    "        \n",
    "    enc_str = ''\n",
    "    \n",
    "    for i in encrypted:\n",
    "        \n",
    "        enc_str += i\n",
    "        \n",
    "    return enc_str\n",
    "\n",
    "# Decryption\n",
    "\n",
    "def decrypt(text,shift):\n",
    "    \n",
    "    decrypted =[]\n",
    "    \n",
    "    for i in text:\n",
    "        \n",
    "        index_i = alphabet.index(str(i))\n",
    "        \n",
    "        decrypted.append(alphabet[index_i - shift])\n",
    "        \n",
    "    dec_str = ''\n",
    "    \n",
    "    for i in decrypted:\n",
    "        \n",
    "        dec_str += i\n",
    "        \n",
    "    return dec_str\n",
    "\n",
    "# combining encryption and decryption\n",
    "\n",
    "def driver_code():\n",
    "\n",
    "    direction = input(\"Type 'encode' to encrypt, type 'decode' to decrypt:\\n\")\n",
    "\n",
    "    text = input(\"Type your message:\\n\").lower()\n",
    "\n",
    "    shift = int(input(\"Type the shift number:\\n\"))\n",
    "\n",
    "    if direction == \"encode\":\n",
    "        \n",
    "        print(f\"the encrypted message is {encrypt(text, shift)}\")\n",
    "    \n",
    "    if direction == 'decode':\n",
    "        \n",
    "        print(f\"the decrypted message is {decrypt(text,shift)}\")\n",
    "\n",
    "should_end = False\n",
    "\n",
    "while not should_end:\n",
    "    \n",
    "    driver_code()\n",
    "    \n",
    "    repeat = input(\"Enter 'Y' to repeat the task, else enter 'N' to end the task :\")\n",
    "\n",
    "    if repeat == 'Y':\n",
    "        \n",
    "        driver_code()\n",
    "        \n",
    "    if repeat == 'N':\n",
    "        \n",
    "        should_end = True\n",
    "        \n",
    "        print('Good bye..!')\n",
    "    \n",
    "    else:\n",
    "        \n",
    "        print(\"Enter the correct credentials: \")\n",
    "        \n",
    "        driver_code()"
   ]
  }
 ],
 "metadata": {
  "kernelspec": {
   "display_name": "Python 3 (ipykernel)",
   "language": "python",
   "name": "python3"
  },
  "language_info": {
   "codemirror_mode": {
    "name": "ipython",
    "version": 3
   },
   "file_extension": ".py",
   "mimetype": "text/x-python",
   "name": "python",
   "nbconvert_exporter": "python",
   "pygments_lexer": "ipython3",
   "version": "3.11.3"
  }
 },
 "nbformat": 4,
 "nbformat_minor": 5
}
