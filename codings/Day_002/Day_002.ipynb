{
 "cells": [
  {
   "cell_type": "markdown",
   "metadata": {
    "id": "fyhHRsKyV5s3"
   },
   "source": [
    "***DATA TYPES***"
   ]
  },
  {
   "cell_type": "code",
   "execution_count": 1,
   "metadata": {
    "colab": {
     "base_uri": "https://localhost:8080/"
    },
    "executionInfo": {
     "elapsed": 10,
     "status": "ok",
     "timestamp": 1681016121463,
     "user": {
      "displayName": "HAK",
      "userId": "04912709699462303607"
     },
     "user_tz": -330
    },
    "id": "JPMbPuYwFcKw",
    "outputId": "8fb030de-bd73-479e-f983-dbbf76a7631a"
   },
   "outputs": [
    {
     "name": "stdout",
     "output_type": "stream",
     "text": [
      "h\n",
      "o\n"
     ]
    }
   ],
   "source": [
    "#string\n",
    "\n",
    "print(\"hello\"[0])\n",
    "print(\"hello\"[-1])\n",
    "\n",
    "# '[x]' ==> gives the character present in 'x th' place as like the above example\n",
    "\n",
    "# in programming always start counting from ' 0 '\n",
    "\n",
    "# any datatype inside quotation is always treated as string"
   ]
  },
  {
   "cell_type": "code",
   "execution_count": 3,
   "metadata": {
    "colab": {
     "base_uri": "https://localhost:8080/"
    },
    "executionInfo": {
     "elapsed": 437,
     "status": "ok",
     "timestamp": 1681017088786,
     "user": {
      "displayName": "HAK",
      "userId": "04912709699462303607"
     },
     "user_tz": -330
    },
    "id": "dz3f2hUyX8J8",
    "outputId": "b4e2f119-e175-48f8-f0b9-1c0c2d5cc5dc"
   },
   "outputs": [
    {
     "name": "stdout",
     "output_type": "stream",
     "text": [
      "123456\n",
      "579\n"
     ]
    }
   ],
   "source": [
    "# integer\n",
    "\n",
    "# always the number must be not in the quotation.\n",
    "\n",
    "print(\"123\"+\"456\") # if we try to add two strings, it will concatenate\n",
    "\n",
    "# if the numbers are in the quotation, then it is always considered as a string\n",
    "\n",
    "print(123+456) # if we try to add two integers, it will result in summation"
   ]
  },
  {
   "cell_type": "code",
   "execution_count": 4,
   "metadata": {
    "colab": {
     "base_uri": "https://localhost:8080/"
    },
    "executionInfo": {
     "elapsed": 19,
     "status": "ok",
     "timestamp": 1681017259852,
     "user": {
      "displayName": "HAK",
      "userId": "04912709699462303607"
     },
     "user_tz": -330
    },
    "id": "ByfUtaO7bUwp",
    "outputId": "814136f1-cb60-4ef0-874e-39c728f92a21"
   },
   "outputs": [
    {
     "name": "stdout",
     "output_type": "stream",
     "text": [
      "16.6446.6\n",
      "579.5790000000001\n"
     ]
    }
   ],
   "source": [
    "# float\n",
    "\n",
    "# float is a decimal point number, it too need not to be inside the quotation\n",
    "\n",
    "print(\"16.6\" + \"446.6\") # if we try to add two strings, it will concatenate\n",
    "\n",
    "# if the floats are in the quotation, then it is always considered as a string\n",
    "\n",
    "print(123.123+456.456) # if we try to add two floats, it will result in summation"
   ]
  },
  {
   "cell_type": "code",
   "execution_count": 5,
   "metadata": {
    "colab": {
     "base_uri": "https://localhost:8080/"
    },
    "executionInfo": {
     "elapsed": 412,
     "status": "ok",
     "timestamp": 1681017474483,
     "user": {
      "displayName": "HAK",
      "userId": "04912709699462303607"
     },
     "user_tz": -330
    },
    "id": "5R_8C7tAb-Pd",
    "outputId": "2b8f6568-1684-4231-ff2e-0a363a29977d"
   },
   "outputs": [
    {
     "name": "stdout",
     "output_type": "stream",
     "text": [
      "True\n",
      "False\n"
     ]
    }
   ],
   "source": [
    "# boolean\n",
    "\n",
    "# it has only two possible values called \"True\" or \"False\"\n",
    "\n",
    "# always T and F must be capital in these words\n",
    "\n",
    "print(1<2) # returns the boolean answer True/False\n",
    "\n",
    "print(1==2)"
   ]
  },
  {
   "cell_type": "markdown",
   "metadata": {
    "id": "WvJlTUyqdUd-"
   },
   "source": [
    "***type() and type conversion***"
   ]
  },
  {
   "cell_type": "code",
   "execution_count": 6,
   "metadata": {
    "colab": {
     "base_uri": "https://localhost:8080/"
    },
    "executionInfo": {
     "elapsed": 525,
     "status": "ok",
     "timestamp": 1681017845277,
     "user": {
      "displayName": "HAK",
      "userId": "04912709699462303607"
     },
     "user_tz": -330
    },
    "id": "iSwH8mRsdcYG",
    "outputId": "e59a9d0e-9724-456d-fd87-064ef16c4f02"
   },
   "outputs": [
    {
     "name": "stdout",
     "output_type": "stream",
     "text": [
      "<class 'str'>\n",
      "<class 'int'> \n",
      "\n",
      "<class 'str'>\n",
      "<class 'int'>\n"
     ]
    }
   ],
   "source": [
    "# type() ==> used to get the data type of something\n",
    "\n",
    "name = \"aswin\"\n",
    "age = 18\n",
    "print(type(name))\n",
    "print(type(age),'\\n')\n",
    "\n",
    "# instead of using variables here, we can directly enter the data which we need to check\n",
    "\n",
    "print(type(\"aswin\"))\n",
    "print(type(18))"
   ]
  },
  {
   "cell_type": "code",
   "execution_count": 7,
   "metadata": {
    "colab": {
     "base_uri": "https://localhost:8080/",
     "height": 217
    },
    "executionInfo": {
     "elapsed": 438,
     "status": "error",
     "timestamp": 1681018080876,
     "user": {
      "displayName": "HAK",
      "userId": "04912709699462303607"
     },
     "user_tz": -330
    },
    "id": "nXijJDDueMRi",
    "outputId": "edc1f8b7-4291-4acd-ceae-94f64e2bbcf5"
   },
   "outputs": [
    {
     "name": "stdout",
     "output_type": "stream",
     "text": [
      "string ==> 5\n"
     ]
    },
    {
     "ename": "TypeError",
     "evalue": "object of type 'int' has no len()",
     "output_type": "error",
     "traceback": [
      "\u001b[1;31m---------------------------------------------------------------------------\u001b[0m",
      "\u001b[1;31mTypeError\u001b[0m                                 Traceback (most recent call last)",
      "Cell \u001b[1;32mIn[7], line 8\u001b[0m\n\u001b[0;32m      1\u001b[0m \u001b[38;5;66;03m# type error\u001b[39;00m\n\u001b[0;32m      2\u001b[0m \n\u001b[0;32m      3\u001b[0m \u001b[38;5;66;03m# example, if we try to check the the length of a string using len(), let check it will produce type error\u001b[39;00m\n\u001b[0;32m      4\u001b[0m \u001b[38;5;66;03m# because len() gives the length of the string data type only\u001b[39;00m\n\u001b[0;32m      6\u001b[0m \u001b[38;5;28mprint\u001b[39m(\u001b[38;5;124m\"\u001b[39m\u001b[38;5;124mstring ==>\u001b[39m\u001b[38;5;124m\"\u001b[39m,\u001b[38;5;28mlen\u001b[39m(\u001b[38;5;124m\"\u001b[39m\u001b[38;5;124maswin\u001b[39m\u001b[38;5;124m\"\u001b[39m)) \u001b[38;5;66;03m# let check it with string\u001b[39;00m\n\u001b[1;32m----> 8\u001b[0m \u001b[38;5;28mprint\u001b[39m(\u001b[38;5;124m\"\u001b[39m\u001b[38;5;124minteger ==>\u001b[39m\u001b[38;5;124m\"\u001b[39m,\u001b[38;5;28;43mlen\u001b[39;49m\u001b[43m(\u001b[49m\u001b[38;5;241;43m123\u001b[39;49m\u001b[43m)\u001b[49m) \u001b[38;5;66;03m# let check it with integer\u001b[39;00m\n\u001b[0;32m     10\u001b[0m \u001b[38;5;66;03m# error will be produced in 2nd code\u001b[39;00m\n\u001b[0;32m     11\u001b[0m \n\u001b[0;32m     12\u001b[0m \u001b[38;5;66;03m# string ==> 5\u001b[39;00m\n\u001b[1;32m   (...)\u001b[0m\n\u001b[0;32m     19\u001b[0m \n\u001b[0;32m     20\u001b[0m \u001b[38;5;66;03m# TypeError: object of type 'int' has no len()\u001b[39;00m\n",
      "\u001b[1;31mTypeError\u001b[0m: object of type 'int' has no len()"
     ]
    }
   ],
   "source": [
    "# type error\n",
    "\n",
    "# example, if we try to check the the length of a string using len(), let check it will produce type error\n",
    "# because len() gives the length of the string data type only\n",
    "\n",
    "print(\"string ==>\",len(\"aswin\")) # let check it with string\n",
    "\n",
    "print(\"integer ==>\",len(123)) # let check it with integer\n",
    "\n",
    "# error will be produced in 2nd code\n",
    "\n",
    "# string ==> 5\n",
    "# ---------------------------------------------------------------------------\n",
    "# TypeError                                 Traceback (most recent call last)\n",
    "# <ipython-input-12-3c3a1166e154> in <cell line: 8>()\n",
    "#       6 print(\"string ==>\",len(\"aswin\")) # let check it with string\n",
    "#       7\n",
    "# ----> 8 print(\"integer ==>\",len(123)) # let check it with integer\n",
    "\n",
    "# TypeError: object of type 'int' has no len()"
   ]
  },
  {
   "cell_type": "code",
   "execution_count": 8,
   "metadata": {
    "id": "5LPZ6_Nkfa2x"
   },
   "outputs": [
    {
     "name": "stdout",
     "output_type": "stream",
     "text": [
      "<class 'int'>\n",
      "<class 'str'>\n",
      "3\n"
     ]
    }
   ],
   "source": [
    "# what is the alternate for checking the length of the string ?\n",
    "\n",
    "# we are just going to convert the integer or other datatype into string, so that we can able to get the length of the data type\n",
    "a = 123\n",
    "s = str(a)\n",
    "print(type(a))\n",
    "print(type(s))\n",
    "print(len(s))\n",
    "# this is known as type conversion or type casting"
   ]
  },
  {
   "cell_type": "code",
   "execution_count": 9,
   "metadata": {
    "colab": {
     "base_uri": "https://localhost:8080/"
    },
    "executionInfo": {
     "elapsed": 1454,
     "status": "ok",
     "timestamp": 1689337761215,
     "user": {
      "displayName": "HAK",
      "userId": "04912709699462303607"
     },
     "user_tz": -330
    },
    "id": "TW_bmuXpgd4K",
    "outputId": "bbd92d25-ddd8-4896-dae8-5c75e6f3b300"
   },
   "outputs": [
    {
     "name": "stdout",
     "output_type": "stream",
     "text": [
      "data type of age ==> <class 'int'>\n",
      "data type of s_age ==> <class 'str'>\n"
     ]
    }
   ],
   "source": [
    "# type conversion\n",
    "\n",
    "# changing on data type into another\n",
    "\n",
    "# example\n",
    "\n",
    "age = 18  # here the given data type is an integer, and we are simply going to convert this data type into a string\n",
    "\n",
    "print(\"data type of age ==>\",type(age))\n",
    "\n",
    "s_age = str(age) # just convert the datatype by giving the datatype into the datatype function like str(), int(), bool(), float()\n",
    "\n",
    "print(\"data type of s_age ==>\",type(s_age))\n",
    "\n",
    "# therefor we had converted the integer datatype into string data type"
   ]
  },
  {
   "cell_type": "markdown",
   "metadata": {
    "id": "BJnDiLR_iTz5"
   },
   "source": [
    "***exercise 1***\n",
    "\n",
    "write a program that adds the digits in a two digit number. e.g. if the input was 35, then the output should be 3 + 5 = 8\n",
    "\n",
    "**NOTE:** input() are always identified as strings\n",
    "\n",
    "**warning:** write your code at the line which is allotted to you. your program should work for different inputs. e.g. any two - digit - number\n",
    "\n",
    "***sample input:*** 25\n",
    "\n",
    "***sample output:*** 2 + 5  = 7"
   ]
  },
  {
   "cell_type": "code",
   "execution_count": 11,
   "metadata": {
    "colab": {
     "base_uri": "https://localhost:8080/"
    },
    "executionInfo": {
     "elapsed": 3606,
     "status": "ok",
     "timestamp": 1681126054438,
     "user": {
      "displayName": "HAK",
      "userId": "04912709699462303607"
     },
     "user_tz": -330
    },
    "id": "PUmkm4vgh7ez",
    "outputId": "7b121af8-96d3-41c2-845b-c02767c01ead"
   },
   "outputs": [
    {
     "name": "stdout",
     "output_type": "stream",
     "text": [
      "Type a two digit number 25\n"
     ]
    },
    {
     "name": "stdout",
     "output_type": "stream",
     "text": [
      "7\n"
     ]
    }
   ],
   "source": [
    "# don't change the code below\n",
    "\n",
    "two_digit_number = input(\"Type a two digit number\")\n",
    "\n",
    "# don't change the code above\n",
    "a = two_digit_number[0]\n",
    "b = two_digit_number[1]\n",
    "A = int(a)\n",
    "B = int(b)\n",
    "print(A + B)\n",
    "\n",
    "# write your code below this line\n",
    "\n",
    "# write your code above this line"
   ]
  },
  {
   "cell_type": "markdown",
   "metadata": {
    "id": "z6K9hU5ilLOG"
   },
   "source": [
    "***mathematical operations in python***"
   ]
  },
  {
   "cell_type": "code",
   "execution_count": 12,
   "metadata": {
    "colab": {
     "base_uri": "https://localhost:8080/"
    },
    "executionInfo": {
     "elapsed": 791,
     "status": "ok",
     "timestamp": 1681020067975,
     "user": {
      "displayName": "HAK",
      "userId": "04912709699462303607"
     },
     "user_tz": -330
    },
    "id": "3hKnj7h1lPhB",
    "outputId": "4eb8a03c-827b-4a7b-b35a-20afbb95f434"
   },
   "outputs": [
    {
     "name": "stdout",
     "output_type": "stream",
     "text": [
      "<class 'float'>\n"
     ]
    }
   ],
   "source": [
    "# + ==> addition\n",
    "\n",
    "# - ==> subtraction\n",
    "\n",
    "# * ==> multiplication\n",
    "\n",
    "# / ==> division\n",
    "\n",
    "# ** ==> exponential (or) to the power of\n",
    "\n",
    "# // ==> division, which gives the rounded value, and not in float datatype\n",
    "\n",
    "# when we use / operation, results in float value only even it is rounded.\n",
    "\n",
    "# example\n",
    "\n",
    "print(type(5/5))"
   ]
  },
  {
   "cell_type": "code",
   "execution_count": 13,
   "metadata": {
    "colab": {
     "base_uri": "https://localhost:8080/"
    },
    "executionInfo": {
     "elapsed": 571,
     "status": "ok",
     "timestamp": 1681020378383,
     "user": {
      "displayName": "HAK",
      "userId": "04912709699462303607"
     },
     "user_tz": -330
    },
    "id": "tskE5oYRmhQT",
    "outputId": "ea1ab985-8417-4544-d483-05d94f24d418"
   },
   "outputs": [
    {
     "name": "stdout",
     "output_type": "stream",
     "text": [
      "3.0\n"
     ]
    }
   ],
   "source": [
    "# THE PEMDAS RULE\n",
    "\n",
    "# p ==> paranthesis\n",
    "# e ==> exponential\n",
    "# m ==> multipication\n",
    "# d ==> division\n",
    "# a ==> addition\n",
    "# s ==> subtraction\n",
    "\n",
    "# python interpreter always use pemdas rule to prioritize any math problem\n",
    "\n",
    "print(3*(3+3)/3-3)"
   ]
  },
  {
   "cell_type": "markdown",
   "metadata": {
    "id": "K0D_km48n-Jc"
   },
   "source": [
    "***EXERCISE 2***\n",
    "\n",
    "write a  program to calculate Body Mass Index (BMI) from the user's height and weight\n",
    "\n",
    "**CLUE:** BMI = weight(kg)/height**2(m**2)\n",
    "\n",
    "***example input***\n",
    "\n",
    "weight = 80\n",
    "\n",
    "height = 1.75\n",
    "\n",
    "***example output***\n",
    "\n",
    "80 / (1.75*1.75) = 26.122448979591837\n",
    "\n",
    "26"
   ]
  },
  {
   "cell_type": "code",
   "execution_count": 15,
   "metadata": {
    "colab": {
     "base_uri": "https://localhost:8080/"
    },
    "executionInfo": {
     "elapsed": 6707,
     "status": "ok",
     "timestamp": 1689338393700,
     "user": {
      "displayName": "HAK",
      "userId": "04912709699462303607"
     },
     "user_tz": -330
    },
    "id": "qgRnz0bondsz",
    "outputId": "3388e4fe-b2bb-4771-bc29-506382753537"
   },
   "outputs": [
    {
     "name": "stdout",
     "output_type": "stream",
     "text": [
      "enter the height in m:  1.75\n",
      "enter the weight in kg:  80\n"
     ]
    },
    {
     "name": "stdout",
     "output_type": "stream",
     "text": [
      "Your BMI is 26\n"
     ]
    }
   ],
   "source": [
    "# don't change the code below\n",
    "height = float(input(\"enter the height in m: \"))\n",
    "weight = float(input(\"enter the weight in kg: \"))\n",
    "# don't change the code above\n",
    "\n",
    "# write your code belos this line\n",
    "bmi=float(weight/(height**2))\n",
    "BMI = int(bmi)\n",
    "print(f'Your BMI is {BMI}')\n",
    "# write your code above this line\n"
   ]
  },
  {
   "cell_type": "markdown",
   "metadata": {
    "id": "MydVXGun7lw9"
   },
   "source": [
    "***number manipulation***"
   ]
  },
  {
   "cell_type": "code",
   "execution_count": 16,
   "metadata": {
    "colab": {
     "base_uri": "https://localhost:8080/"
    },
    "executionInfo": {
     "elapsed": 9,
     "status": "ok",
     "timestamp": 1681042912305,
     "user": {
      "displayName": "HAK",
      "userId": "04912709699462303607"
     },
     "user_tz": -330
    },
    "id": "nPp8oILm7pJX",
    "outputId": "ee7b1b42-0e83-4428-a80a-cc316ba0cc58"
   },
   "outputs": [
    {
     "name": "stdout",
     "output_type": "stream",
     "text": [
      "2.6666666666666665\n",
      "2\n",
      "3\n",
      "2.667\n",
      "2\n"
     ]
    }
   ],
   "source": [
    "# if we divide 8/3, then the answer will be ==> 2.666666666666...., it is a float data type\n",
    "\n",
    "# if we convert into integer, then the answer will bw ==> 2\n",
    "\n",
    "print(8/3)\n",
    "\n",
    "print(int(8/3))\n",
    "\n",
    "# this is what we called as rounding the number\n",
    "\n",
    "# we can also use \"round()\" function to get a rounded value\n",
    "\n",
    "# we can also get upto 'x' decimal point which is nearer by using round function\n",
    "\n",
    "# syntax ===> round(operation, x); where x is the number which indicates digits we need after the point\n",
    "\n",
    "print(round(8/3))\n",
    "\n",
    "print(round(8/3 ,3))\n",
    "\n",
    "print(8 // 3)  # returns the same divided value, but not the decimal value"
   ]
  },
  {
   "cell_type": "code",
   "execution_count": 17,
   "metadata": {
    "colab": {
     "base_uri": "https://localhost:8080/"
    },
    "executionInfo": {
     "elapsed": 418,
     "status": "ok",
     "timestamp": 1681043227730,
     "user": {
      "displayName": "HAK",
      "userId": "04912709699462303607"
     },
     "user_tz": -330
    },
    "id": "n619Ca7W-WK2",
    "outputId": "9f231af2-9d79-46ca-e629-cbee89cc5cdc"
   },
   "outputs": [
    {
     "name": "stdout",
     "output_type": "stream",
     "text": [
      "0\n",
      "10\n"
     ]
    }
   ],
   "source": [
    "# increment or decrement\n",
    "\n",
    "# let take score = 0 initially, we need to add 10 to that score, what can we do..?\n",
    "\n",
    "# yes ==> score = score + 10\n",
    "\n",
    "# another way is to increment it with 10\n",
    "\n",
    "# i.e., ==> score += 10\n",
    "\n",
    "# it is also called as manipulating value with the previous value\n",
    "\n",
    "score = 0\n",
    "print(score)\n",
    "score += 10\n",
    "print(score)"
   ]
  },
  {
   "cell_type": "markdown",
   "metadata": {
    "id": "bBe6o33c_P_n"
   },
   "source": [
    "***F-String***"
   ]
  },
  {
   "cell_type": "code",
   "execution_count": 18,
   "metadata": {
    "colab": {
     "base_uri": "https://localhost:8080/"
    },
    "executionInfo": {
     "elapsed": 429,
     "status": "ok",
     "timestamp": 1689338422832,
     "user": {
      "displayName": "HAK",
      "userId": "04912709699462303607"
     },
     "user_tz": -330
    },
    "id": "kfzynQER_O-h",
    "outputId": "2e0a40e5-78d6-4c1e-b603-5b78d33c5ba8"
   },
   "outputs": [
    {
     "name": "stdout",
     "output_type": "stream",
     "text": [
      "your score ==>50\n",
      "your score ==> 50\n"
     ]
    }
   ],
   "source": [
    "# f - string is nothing but the optimized version of printing something\n",
    "\n",
    "# syntax ==> print(f'user prompt/display{x}'); where x = any variable which need to be displayed\n",
    "\n",
    "# example, let take score = 50, and let do it with both normal and optimized method\n",
    "\n",
    "score =  50\n",
    "\n",
    "# normal method\n",
    "\n",
    "print(\"your score ==>\"+str(score))\n",
    "\n",
    "# we need to convert score into string and then we need to print that, quite time consuming\n",
    "\n",
    "# optimized method\n",
    "\n",
    "print(f'your score ==> {score}')\n",
    "\n",
    "# no need to convert into string here, works in any data type"
   ]
  },
  {
   "cell_type": "markdown",
   "metadata": {
    "id": "g25-wju0BrbJ"
   },
   "source": [
    "***EXERCISE 3***\n",
    "\n",
    "create a program using maths and f-string that tells us how many days, weeks, months, we have left if we live until 90 years old.\n",
    "\n",
    "it will take your current age as the input and output a message with our time left in this format\n",
    "\n",
    "\"you have x days, y weeks, and z months left\"\n",
    "\n",
    "where x,y,z are replaced with actual calculated numbers\n",
    "\n",
    "**warning:** your output should match the words in the example output precisely. you should round the results to the nearest whole number.\n",
    "\n",
    "**example input**\n",
    "\n",
    "56\n",
    "\n",
    "**example output**\n",
    "\n",
    "you have 12410 days, 1768 weeks, and 408 months left"
   ]
  },
  {
   "cell_type": "code",
   "execution_count": 20,
   "metadata": {
    "id": "_jJLrWf4BKRw"
   },
   "outputs": [
    {
     "name": "stdout",
     "output_type": "stream",
     "text": [
      "what is your current age ? 19\n"
     ]
    },
    {
     "name": "stdout",
     "output_type": "stream",
     "text": [
      "Your age is 19\n",
      "You have 25915 days, 3692 weeks, and 852 months left.\n"
     ]
    }
   ],
   "source": [
    "# don't change the code below\n",
    "\n",
    "age = input('what is your current age ?')\n",
    "\n",
    "# don't change the code above\n",
    "\n",
    "# write the code below this line\n",
    "Age = int(age)\n",
    "years = 90 - Age\n",
    "month = years * 12\n",
    "weeks = years * 52\n",
    "days = years * 365\n",
    "print(f'Your age is {Age}')\n",
    "print(f\"You have {days} days, {weeks} weeks, and {month} months left.\")\n",
    "# write the code above this line"
   ]
  },
  {
   "cell_type": "markdown",
   "metadata": {
    "id": "5u_zX8aHDxUJ"
   },
   "source": [
    "***PROJECT OF THE DAY:*** TIP CALCULATOR\n",
    "\n",
    "write a program for tip calcuator using the user's bill amount.\n",
    "\n",
    "==> ask the user to enter the bill amount\n",
    "\n",
    "==> ask the user to enter the perentage which he likes to give as tip\n",
    "\n",
    "==> ask the user to enter the number of persons to split the bill\n",
    "\n",
    "**example:**\n",
    "\n",
    "welcome to the tip calculator\n",
    "\n",
    "\n",
    "what was the total bill ? $100\n",
    "\n",
    "\n",
    "what percentage tip would you like to give ? 10, 12, or 15 ?12\n",
    "\n",
    "\n",
    "how many people to split the bill ? 3\n",
    "\n",
    "\n",
    "each person should pay: $37.33\n",
    "\n"
   ]
  },
  {
   "cell_type": "code",
   "execution_count": 1,
   "metadata": {
    "colab": {
     "base_uri": "https://localhost:8080/"
    },
    "executionInfo": {
     "elapsed": 10692,
     "status": "ok",
     "timestamp": 1681046432028,
     "user": {
      "displayName": "HAK",
      "userId": "04912709699462303607"
     },
     "user_tz": -330
    },
    "id": "Z4XouMLWDphU",
    "outputId": "be5aa547-5ba2-4fa6-b7dc-43c05d428d7b"
   },
   "outputs": [
    {
     "name": "stdout",
     "output_type": "stream",
     "text": [
      "welcome to the tip calculator\n",
      "Each person should pay 37.33\n"
     ]
    }
   ],
   "source": [
    "print(\"welcome to the tip calculator\")\n",
    "# ask the user to enter the bill amount\n",
    "bill = float(input('What was the total bill? '))\n",
    "# ask the user to enter the perentage which  he likes to give as tip\n",
    "tip = int(input('Whats percentage tip would you like to give? 10, 12, or 15? '))\n",
    "# ask the user to enter the number of persons to split the bill\n",
    "people = int(input('How many people to split the bill? '))\n",
    "# write your calculation code here\n",
    "# To Calculate percentage multiply the bill with tip percentage and divide by 100\n",
    "percentage = bill * (tip / 100)\n",
    "\n",
    "total_bill = (percentage + bill) / people\n",
    "Total = round(total_bill, 2)\n",
    "print(f'Each person should pay {Total}')\n"
   ]
  }
 ],
 "metadata": {
  "colab": {
   "authorship_tag": "ABX9TyMIQqCYpmZ828ai9w4yw4HQ",
   "provenance": []
  },
  "kernelspec": {
   "display_name": "Python 3 (ipykernel)",
   "language": "python",
   "name": "python3"
  },
  "language_info": {
   "codemirror_mode": {
    "name": "ipython",
    "version": 3
   },
   "file_extension": ".py",
   "mimetype": "text/x-python",
   "name": "python",
   "nbconvert_exporter": "python",
   "pygments_lexer": "ipython3",
   "version": "3.11.4"
  }
 },
 "nbformat": 4,
 "nbformat_minor": 4
}
