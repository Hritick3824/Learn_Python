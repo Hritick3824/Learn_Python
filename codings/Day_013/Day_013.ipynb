{
 "cells": [
  {
   "cell_type": "raw",
   "id": "623fe248-8544-44f4-bf22-a64c7da552b8",
   "metadata": {},
   "source": [
    "DEBUGGING THE CODE 1"
   ]
  },
  {
   "cell_type": "code",
   "execution_count": 4,
   "id": "8c5307d6-167e-434d-b8a5-237365fb4cef",
   "metadata": {},
   "outputs": [],
   "source": [
    "# # Describe Problem\n",
    "def my_function():\n",
    "  for i in range(1, 20):\n",
    "    if i == 20:\n",
    "      print(\"You got it\")\n",
    "my_function()\n",
    "\n",
    "# No output will be printed because it contains bug"
   ]
  },
  {
   "cell_type": "code",
   "execution_count": 161,
   "id": "08ad8558-c39f-4be3-b955-00bb89b0b92f",
   "metadata": {},
   "outputs": [
    {
     "name": "stdout",
     "output_type": "stream",
     "text": [
      "1\n",
      "2\n",
      "3\n",
      "4\n",
      "5\n",
      "6\n",
      "7\n",
      "8\n",
      "9\n",
      "10\n",
      "11\n",
      "12\n",
      "13\n",
      "14\n",
      "15\n",
      "16\n",
      "17\n",
      "18\n",
      "19\n",
      "20\n",
      "You got it\n"
     ]
    }
   ],
   "source": [
    "# This block explains the debuging of the previous block\n",
    "\n",
    "def my_function():\n",
    "  for i in range(1, 21):\n",
    "    print(i)\n",
    "    if i == 20:\n",
    "        print(\"You got it\")\n",
    "my_function()\n",
    "\n",
    "# Here the output gets printed by modifying the range from 20 to 21 as the range is from n to n-1\n",
    "# To demonstrate the range i have printed the i"
   ]
  },
  {
   "cell_type": "raw",
   "id": "a91ece90-2c99-4996-822c-aea39b01a455",
   "metadata": {},
   "source": [
    "DEBUGGING THE CODE 2"
   ]
  },
  {
   "cell_type": "code",
   "execution_count": 105,
   "id": "1572899d-5ce9-45f9-92d5-a40eec3900f1",
   "metadata": {},
   "outputs": [
    {
     "ename": "IndexError",
     "evalue": "list index out of range",
     "output_type": "error",
     "traceback": [
      "\u001b[1;31m---------------------------------------------------------------------------\u001b[0m",
      "\u001b[1;31mIndexError\u001b[0m                                Traceback (most recent call last)",
      "Cell \u001b[1;32mIn[105], line 5\u001b[0m\n\u001b[0;32m      3\u001b[0m dice_imgs \u001b[38;5;241m=\u001b[39m [\u001b[38;5;124m\"\u001b[39m\u001b[38;5;124m❶\u001b[39m\u001b[38;5;124m\"\u001b[39m, \u001b[38;5;124m\"\u001b[39m\u001b[38;5;124m❷\u001b[39m\u001b[38;5;124m\"\u001b[39m, \u001b[38;5;124m\"\u001b[39m\u001b[38;5;124m❸\u001b[39m\u001b[38;5;124m\"\u001b[39m, \u001b[38;5;124m\"\u001b[39m\u001b[38;5;124m❹\u001b[39m\u001b[38;5;124m\"\u001b[39m, \u001b[38;5;124m\"\u001b[39m\u001b[38;5;124m❺\u001b[39m\u001b[38;5;124m\"\u001b[39m, \u001b[38;5;124m\"\u001b[39m\u001b[38;5;124m❻\u001b[39m\u001b[38;5;124m\"\u001b[39m]\n\u001b[0;32m      4\u001b[0m dice_num \u001b[38;5;241m=\u001b[39m randint(\u001b[38;5;241m1\u001b[39m, \u001b[38;5;241m6\u001b[39m)  \n\u001b[1;32m----> 5\u001b[0m \u001b[38;5;28mprint\u001b[39m(\u001b[43mdice_imgs\u001b[49m\u001b[43m[\u001b[49m\u001b[43mdice_num\u001b[49m\u001b[43m]\u001b[49m)\n\u001b[0;32m      7\u001b[0m \u001b[38;5;66;03m# Bug is present in line 4, The bug is the randint range start from 0 to n values according to the list\u001b[39;00m\n\u001b[0;32m      8\u001b[0m \u001b[38;5;66;03m# Here the range is 1 to 6 , but the range should be 0 to 5 as the list are counted from 0 to n values\u001b[39;00m\n",
      "\u001b[1;31mIndexError\u001b[0m: list index out of range"
     ]
    }
   ],
   "source": [
    "# # Reproduce the Bug\n",
    "from random import randint\n",
    "dice_imgs = [\"❶\", \"❷\", \"❸\", \"❹\", \"❺\", \"❻\"]\n",
    "dice_num = randint(1, 6)  \n",
    "print(dice_imgs[dice_num])\n",
    "\n",
    "# Bug is present in line 4, The bug is the randint range start from 0 to n values according to the list\n",
    "# Here the range is 1 to 6 , but the range should be 0 to 5 as the list are counted from 0 to n values\n",
    "# if the randint function choose the 6 an out of range error occurs as the 6 element is not present in the list"
   ]
  },
  {
   "cell_type": "code",
   "execution_count": 160,
   "id": "a1c675fc-c196-49e3-9020-70f369c72703",
   "metadata": {},
   "outputs": [
    {
     "name": "stdout",
     "output_type": "stream",
     "text": [
      "❷\n"
     ]
    }
   ],
   "source": [
    "# Debugged code\n",
    "from random import randint\n",
    "dice_imgs = [\"❶\", \"❷\", \"❸\", \"❹\", \"❺\", \"❻\"]\n",
    "dice_num = randint(0, 5)  \n",
    "print(dice_imgs[dice_num])"
   ]
  },
  {
   "cell_type": "raw",
   "id": "0fe8d04b-6f10-48a3-ac2d-be4f8fde1682",
   "metadata": {},
   "source": [
    "DEBUGGING THE CODE 3"
   ]
  },
  {
   "cell_type": "code",
   "execution_count": 157,
   "id": "b2dae9b7-bf62-4ea0-ba14-8ee7b07f5f4e",
   "metadata": {},
   "outputs": [
    {
     "name": "stdin",
     "output_type": "stream",
     "text": [
      "What's your year of birth? 1993\n"
     ]
    },
    {
     "name": "stdout",
     "output_type": "stream",
     "text": [
      "You are a millenial.\n"
     ]
    }
   ],
   "source": [
    "# # Play Computer\n",
    "year = int(input(\"What's your year of birth?\"))\n",
    "if year > 1980 and year < 1994:\n",
    "  print(\"You are a millenial.\")\n",
    "elif year >= 1994:\n",
    "  print(\"You are a Gen Z.\")\n",
    "\n",
    "# No bug in this code this code is just for playing with the code"
   ]
  },
  {
   "cell_type": "code",
   "execution_count": 136,
   "id": "b0585f67-fa9f-49a7-9d51-8d0043244566",
   "metadata": {},
   "outputs": [
    {
     "ename": "IndentationError",
     "evalue": "expected an indented block after 'if' statement on line 3 (4144734773.py, line 4)",
     "output_type": "error",
     "traceback": [
      "\u001b[1;36m  Cell \u001b[1;32mIn[136], line 4\u001b[1;36m\u001b[0m\n\u001b[1;33m    print(\"You can drive at age {age}.\")\u001b[0m\n\u001b[1;37m    ^\u001b[0m\n\u001b[1;31mIndentationError\u001b[0m\u001b[1;31m:\u001b[0m expected an indented block after 'if' statement on line 3\n"
     ]
    }
   ],
   "source": [
    "# # Fix the Errors\n",
    "age = input(\"How old are you?\")\n",
    "if age > 18:\n",
    "print(\"You can drive at age {age}.\")\n",
    "# There is an intendation error and there is an error which shows as \"'>' not supported between instances of 'str' and 'int'\" .\n",
    "# Fix is shown in next block"
   ]
  },
  {
   "cell_type": "code",
   "execution_count": 159,
   "id": "ff70c2da-2a2b-4659-ad7e-fb3e8137248a",
   "metadata": {},
   "outputs": [
    {
     "name": "stdin",
     "output_type": "stream",
     "text": [
      "How old are you? 19\n"
     ]
    },
    {
     "name": "stdout",
     "output_type": "stream",
     "text": [
      "You can drive at age 19.\n"
     ]
    }
   ],
   "source": [
    "\n",
    "age = int(input(\"How old are you?\"))\n",
    "if age > 18:\n",
    "    print(f\"You can drive at age {age}.\")\n",
    "\n",
    "# Just intendent the print statement below if condition\n",
    "# the input function gets the input as string, to change the string to integers use int function to convert it into the integer format"
   ]
  },
  {
   "cell_type": "raw",
   "id": "067c1b31-36d6-4fbe-8355-3dfe8530b8f4",
   "metadata": {},
   "source": [
    "DEBUGGING THE CODE 4"
   ]
  },
  {
   "cell_type": "code",
   "execution_count": 139,
   "id": "880a65d4-d651-4c8e-8427-351cf006cc31",
   "metadata": {},
   "outputs": [
    {
     "name": "stdin",
     "output_type": "stream",
     "text": [
      "Number of pages:  5\n",
      "Number of words per page:  6\n"
     ]
    },
    {
     "name": "stdout",
     "output_type": "stream",
     "text": [
      "0\n"
     ]
    }
   ],
   "source": [
    "# #Print is Your Friend\n",
    "pages = 0\n",
    "word_per_page = 0\n",
    "pages = int(input(\"Number of pages: \"))\n",
    "word_per_page == int(input(\"Number of words per page: \"))\n",
    "total_words = pages * word_per_page\n",
    "print(total_words)\n",
    "\n",
    "#  There is an bug in line 5 as == used to compare the exact value and = is used to store anyting into the variables"
   ]
  },
  {
   "cell_type": "code",
   "execution_count": 140,
   "id": "80f9f91d-1c9c-47ee-899f-19ee34b976b1",
   "metadata": {},
   "outputs": [
    {
     "name": "stdin",
     "output_type": "stream",
     "text": [
      "Number of pages:  2\n",
      "Number of words per page:  2\n"
     ]
    },
    {
     "name": "stdout",
     "output_type": "stream",
     "text": [
      "4\n"
     ]
    }
   ],
   "source": [
    "# #Print is Your Friend\n",
    "# Debugged code\n",
    "pages = 0\n",
    "word_per_page = 0\n",
    "pages = int(input(\"Number of pages: \"))\n",
    "word_per_page = int(input(\"Number of words per page: \"))\n",
    "total_words = pages * word_per_page\n",
    "print(total_words)"
   ]
  },
  {
   "cell_type": "raw",
   "id": "a434d46c-09da-4a24-9886-92fe61eb3517",
   "metadata": {},
   "source": [
    "DEBUGGING THE CODE 5"
   ]
  },
  {
   "cell_type": "code",
   "execution_count": 152,
   "id": "9c6f81a7-432a-425f-b45f-7781ad317c5d",
   "metadata": {},
   "outputs": [
    {
     "name": "stdout",
     "output_type": "stream",
     "text": [
      "[26]\n"
     ]
    }
   ],
   "source": [
    "# #Use a Debugger ***important link for online debugger: https://pythontutor.com/python-debugger.html#mode=edit\n",
    "def mutate(a_list):\n",
    "  b_list = []\n",
    "  for item in a_list:\n",
    "    new_item = item * 2\n",
    "  b_list.append(new_item)\n",
    "  print(b_list)\n",
    "\n",
    "mutate([1,2,3,5,8,13])\n",
    "\n",
    "#  There is an intendation error in line 6 which appends only the last element which is 13*2 = 26 to b_list"
   ]
  },
  {
   "cell_type": "code",
   "execution_count": 158,
   "id": "7f04a12e-bd6b-4aab-9b0b-cbf25caacdc9",
   "metadata": {},
   "outputs": [
    {
     "name": "stdout",
     "output_type": "stream",
     "text": [
      "[2, 4, 6, 10, 16, 26]\n"
     ]
    }
   ],
   "source": [
    "# #Use a Debugger *** important link for online debugger: https://pythontutor.com/python-debugger.html#mode=edit\n",
    "def mutate(a_list):\n",
    "  b_list = []\n",
    "  for item in a_list:\n",
    "    new_item = item * 2\n",
    "    b_list.append(new_item)\n",
    "  print(b_list)\n",
    "mutate([1,2,3,5,8,13])\n",
    "\n",
    "# if you intend correctly every element is sent to the B_list"
   ]
  },
  {
   "cell_type": "raw",
   "id": "9d76bbf4-bcfb-4c7b-bf99-55cfc8c1e998",
   "metadata": {},
   "source": [
    "DEBUGGING TIPS \n",
    "\n",
    "1. Describe the problem\n",
    "2. Reproduce a bug\n",
    "3. Play computer\n",
    "4. Fix the errors\n",
    "5. Print is your friend \n",
    "6. Use a Debugger\n",
    "7. Take a break\n",
    "8. Ask a friend\n",
    "9. Run often\n",
    "10. Ask Stackoverflow\n"
   ]
  },
  {
   "cell_type": "raw",
   "id": "e495f3a9-08f2-45d9-8848-754144a4644c",
   "metadata": {},
   "source": [
    "EXERCISE - 1 DEBUGGING ODD OR EVEN"
   ]
  },
  {
   "cell_type": "code",
   "execution_count": 166,
   "id": "0cd39f74-79dc-4fac-b920-205e9594199b",
   "metadata": {},
   "outputs": [
    {
     "ename": "SyntaxError",
     "evalue": "cannot assign to expression here. Maybe you meant '==' instead of '='? (2753116948.py, line 3)",
     "output_type": "error",
     "traceback": [
      "\u001b[1;36m  Cell \u001b[1;32mIn[166], line 3\u001b[1;36m\u001b[0m\n\u001b[1;33m    if number % 2 = 0:\u001b[0m\n\u001b[1;37m       ^\u001b[0m\n\u001b[1;31mSyntaxError\u001b[0m\u001b[1;31m:\u001b[0m cannot assign to expression here. Maybe you meant '==' instead of '='?\n"
     ]
    }
   ],
   "source": [
    "number = int(input(\"Which number do you want to check?\"))\n",
    "\n",
    "if number % 2 = 0:\n",
    "  print(\"This is an even number.\")\n",
    "else:\n",
    "  print(\"This is an odd number.\")\n",
    "# There is an error in line 3  = is used to assign something to variable \n",
    "# To check the value matches the value given we use =="
   ]
  },
  {
   "cell_type": "code",
   "execution_count": 167,
   "id": "fc8acb5f-46ee-4f8f-964e-65386addb7e1",
   "metadata": {},
   "outputs": [
    {
     "name": "stdin",
     "output_type": "stream",
     "text": [
      "Which number do you want to check? 7\n"
     ]
    },
    {
     "name": "stdout",
     "output_type": "stream",
     "text": [
      "This is an odd number.\n"
     ]
    }
   ],
   "source": [
    "#  Debugged code\n",
    "\n",
    "number = int(input(\"Which number do you want to check?\"))\n",
    "\n",
    "if number % 2 == 0:\n",
    "  print(\"This is an even number.\")\n",
    "else:\n",
    "  print(\"This is an odd number.\")"
   ]
  },
  {
   "cell_type": "raw",
   "id": "38c609d2-4522-49b8-81c2-257a1e47d20f",
   "metadata": {},
   "source": [
    "EXERCISE 2 - DEBUGGING LEAP YEAR"
   ]
  },
  {
   "cell_type": "code",
   "execution_count": 168,
   "id": "1cd9adc1-77a4-48f5-a4fc-c379d0ff7105",
   "metadata": {},
   "outputs": [
    {
     "name": "stdin",
     "output_type": "stream",
     "text": [
      "Which year do you want to check? 2004\n"
     ]
    },
    {
     "ename": "TypeError",
     "evalue": "not all arguments converted during string formatting",
     "output_type": "error",
     "traceback": [
      "\u001b[1;31m---------------------------------------------------------------------------\u001b[0m",
      "\u001b[1;31mTypeError\u001b[0m                                 Traceback (most recent call last)",
      "Cell \u001b[1;32mIn[168], line 3\u001b[0m\n\u001b[0;32m      1\u001b[0m year \u001b[38;5;241m=\u001b[39m \u001b[38;5;28minput\u001b[39m(\u001b[38;5;124m\"\u001b[39m\u001b[38;5;124mWhich year do you want to check?\u001b[39m\u001b[38;5;124m\"\u001b[39m)\n\u001b[1;32m----> 3\u001b[0m \u001b[38;5;28;01mif\u001b[39;00m \u001b[43myear\u001b[49m\u001b[43m \u001b[49m\u001b[38;5;241;43m%\u001b[39;49m\u001b[43m \u001b[49m\u001b[38;5;241;43m4\u001b[39;49m \u001b[38;5;241m==\u001b[39m \u001b[38;5;241m0\u001b[39m:\n\u001b[0;32m      4\u001b[0m   \u001b[38;5;28;01mif\u001b[39;00m year \u001b[38;5;241m%\u001b[39m \u001b[38;5;241m100\u001b[39m \u001b[38;5;241m==\u001b[39m \u001b[38;5;241m0\u001b[39m:\n\u001b[0;32m      5\u001b[0m     \u001b[38;5;28;01mif\u001b[39;00m year \u001b[38;5;241m%\u001b[39m \u001b[38;5;241m400\u001b[39m \u001b[38;5;241m==\u001b[39m \u001b[38;5;241m0\u001b[39m:\n",
      "\u001b[1;31mTypeError\u001b[0m: not all arguments converted during string formatting"
     ]
    }
   ],
   "source": [
    "year = input(\"Which year do you want to check?\")\n",
    "\n",
    "if year % 4 == 0:\n",
    "  if year % 100 == 0:\n",
    "    if year % 400 == 0:\n",
    "      print(\"Leap year.\")\n",
    "    else:\n",
    "      print(\"Not leap year.\")\n",
    "  else:\n",
    "    print(\"Leap year.\")\n",
    "else:\n",
    "  print(\"Not leap year.\")\n",
    "\n",
    "#  The bug is located in line 1 \n",
    " # The input function get the inputs as string , to convert string to integers use int function"
   ]
  },
  {
   "cell_type": "code",
   "execution_count": 169,
   "id": "c7da78af-7fbb-445a-90f6-0e2ffdff0c16",
   "metadata": {},
   "outputs": [
    {
     "name": "stdin",
     "output_type": "stream",
     "text": [
      "Which year do you want to check? 2004\n"
     ]
    },
    {
     "name": "stdout",
     "output_type": "stream",
     "text": [
      "Leap year.\n"
     ]
    }
   ],
   "source": [
    "#  Debugged code\n",
    "\n",
    "year = int(input(\"Which year do you want to check?\"))\n",
    "\n",
    "if year % 4 == 0:\n",
    "  if year % 100 == 0:\n",
    "    if year % 400 == 0:\n",
    "      print(\"Leap year.\")\n",
    "    else:\n",
    "      print(\"Not leap year.\")\n",
    "  else:\n",
    "    print(\"Leap year.\")\n",
    "else:\n",
    "  print(\"Not leap year.\")"
   ]
  },
  {
   "cell_type": "raw",
   "id": "8a56af99-a124-455a-913f-0b0df1e1dc23",
   "metadata": {},
   "source": [
    "EXERCISE 3 - DEBUGGING FIZZ BUZZ"
   ]
  },
  {
   "cell_type": "code",
   "execution_count": null,
   "id": "d7819eec-8c7e-44b0-b1f0-f53d79c7518e",
   "metadata": {},
   "outputs": [],
   "source": [
    "for number in range(1, 101):\n",
    "  if number % 3 == 0 or number % 5 == 0:\n",
    "    print(\"FizzBuzz\")\n",
    "  if number % 3 == 0:\n",
    "    print(\"Fizz\")\n",
    "  if number % 5 == 0:\n",
    "    print(\"Buzz\")\n",
    "  else:\n",
    "    print([number])\n",
    "\n",
    "#  The bug lies in line 2 which is or operator (we need both conditions to be true to print Fizzbuzz)\n",
    "#  Second bug lies in in line 9 inside the print function"
   ]
  },
  {
   "cell_type": "code",
   "execution_count": 170,
   "id": "2ccb8758-c035-4e81-a205-ebce00461c3b",
   "metadata": {},
   "outputs": [
    {
     "name": "stdout",
     "output_type": "stream",
     "text": [
      "1\n",
      "2\n",
      "FizzBuzz\n",
      "Fizz\n",
      "3\n",
      "4\n",
      "FizzBuzz\n",
      "Buzz\n",
      "FizzBuzz\n",
      "Fizz\n",
      "6\n",
      "7\n",
      "8\n",
      "FizzBuzz\n",
      "Fizz\n",
      "9\n",
      "FizzBuzz\n",
      "Buzz\n",
      "11\n",
      "FizzBuzz\n",
      "Fizz\n",
      "12\n",
      "13\n",
      "14\n",
      "FizzBuzz\n",
      "Fizz\n",
      "Buzz\n",
      "16\n",
      "17\n",
      "FizzBuzz\n",
      "Fizz\n",
      "18\n",
      "19\n",
      "FizzBuzz\n",
      "Buzz\n",
      "FizzBuzz\n",
      "Fizz\n",
      "21\n",
      "22\n",
      "23\n",
      "FizzBuzz\n",
      "Fizz\n",
      "24\n",
      "FizzBuzz\n",
      "Buzz\n",
      "26\n",
      "FizzBuzz\n",
      "Fizz\n",
      "27\n",
      "28\n",
      "29\n",
      "FizzBuzz\n",
      "Fizz\n",
      "Buzz\n",
      "31\n",
      "32\n",
      "FizzBuzz\n",
      "Fizz\n",
      "33\n",
      "34\n",
      "FizzBuzz\n",
      "Buzz\n",
      "FizzBuzz\n",
      "Fizz\n",
      "36\n",
      "37\n",
      "38\n",
      "FizzBuzz\n",
      "Fizz\n",
      "39\n",
      "FizzBuzz\n",
      "Buzz\n",
      "41\n",
      "FizzBuzz\n",
      "Fizz\n",
      "42\n",
      "43\n",
      "44\n",
      "FizzBuzz\n",
      "Fizz\n",
      "Buzz\n",
      "46\n",
      "47\n",
      "FizzBuzz\n",
      "Fizz\n",
      "48\n",
      "49\n",
      "FizzBuzz\n",
      "Buzz\n",
      "FizzBuzz\n",
      "Fizz\n",
      "51\n",
      "52\n",
      "53\n",
      "FizzBuzz\n",
      "Fizz\n",
      "54\n",
      "FizzBuzz\n",
      "Buzz\n",
      "56\n",
      "FizzBuzz\n",
      "Fizz\n",
      "57\n",
      "58\n",
      "59\n",
      "FizzBuzz\n",
      "Fizz\n",
      "Buzz\n",
      "61\n",
      "62\n",
      "FizzBuzz\n",
      "Fizz\n",
      "63\n",
      "64\n",
      "FizzBuzz\n",
      "Buzz\n",
      "FizzBuzz\n",
      "Fizz\n",
      "66\n",
      "67\n",
      "68\n",
      "FizzBuzz\n",
      "Fizz\n",
      "69\n",
      "FizzBuzz\n",
      "Buzz\n",
      "71\n",
      "FizzBuzz\n",
      "Fizz\n",
      "72\n",
      "73\n",
      "74\n",
      "FizzBuzz\n",
      "Fizz\n",
      "Buzz\n",
      "76\n",
      "77\n",
      "FizzBuzz\n",
      "Fizz\n",
      "78\n",
      "79\n",
      "FizzBuzz\n",
      "Buzz\n",
      "FizzBuzz\n",
      "Fizz\n",
      "81\n",
      "82\n",
      "83\n",
      "FizzBuzz\n",
      "Fizz\n",
      "84\n",
      "FizzBuzz\n",
      "Buzz\n",
      "86\n",
      "FizzBuzz\n",
      "Fizz\n",
      "87\n",
      "88\n",
      "89\n",
      "FizzBuzz\n",
      "Fizz\n",
      "Buzz\n",
      "91\n",
      "92\n",
      "FizzBuzz\n",
      "Fizz\n",
      "93\n",
      "94\n",
      "FizzBuzz\n",
      "Buzz\n",
      "FizzBuzz\n",
      "Fizz\n",
      "96\n",
      "97\n",
      "98\n",
      "FizzBuzz\n",
      "Fizz\n",
      "99\n",
      "FizzBuzz\n",
      "Buzz\n"
     ]
    }
   ],
   "source": [
    "#  Debugged code\n",
    "\n",
    "for number in range(1, 101):\n",
    "  if number % 3 == 0 or number % 5 == 0:\n",
    "    print(\"FizzBuzz\")\n",
    "  if number % 3 == 0:\n",
    "    print(\"Fizz\")\n",
    "  if number % 5 == 0:\n",
    "    print(\"Buzz\")\n",
    "  else:\n",
    "    print(number)"
   ]
  }
 ],
 "metadata": {
  "kernelspec": {
   "display_name": "Python 3 (ipykernel)",
   "language": "python",
   "name": "python3"
  },
  "language_info": {
   "codemirror_mode": {
    "name": "ipython",
    "version": 3
   },
   "file_extension": ".py",
   "mimetype": "text/x-python",
   "name": "python",
   "nbconvert_exporter": "python",
   "pygments_lexer": "ipython3",
   "version": "3.11.4"
  }
 },
 "nbformat": 4,
 "nbformat_minor": 5
}
