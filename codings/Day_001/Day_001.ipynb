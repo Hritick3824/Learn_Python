{
 "cells": [
  {
   "cell_type": "markdown",
   "metadata": {
    "id": "JcHRM3VBUna4"
   },
   "source": [
    "***printing***"
   ]
  },
  {
   "cell_type": "code",
   "execution_count": null,
   "metadata": {
    "colab": {
     "base_uri": "https://localhost:8080/"
    },
    "executionInfo": {
     "elapsed": 15,
     "status": "ok",
     "timestamp": 1689166846053,
     "user": {
      "displayName": "HAK",
      "userId": "04912709699462303607"
     },
     "user_tz": -330
    },
    "id": "qYehQq0EPQ6O",
    "outputId": "d4722042-bf3c-4748-eb3d-cc88b685a954"
   },
   "outputs": [
    {
     "name": "stdout",
     "output_type": "stream",
     "text": [
      "hello world!!\n"
     ]
    }
   ],
   "source": [
    "print(\"hello world!!\")"
   ]
  },
  {
   "cell_type": "code",
   "execution_count": null,
   "metadata": {
    "colab": {
     "base_uri": "https://localhost:8080/"
    },
    "executionInfo": {
     "elapsed": 415,
     "status": "ok",
     "timestamp": 1689168943565,
     "user": {
      "displayName": "HAK",
      "userId": "04912709699462303607"
     },
     "user_tz": -330
    },
    "id": "-RbNiAX7NjX1",
    "outputId": "72479645-aee6-491f-b1c0-e861cbbfdc92"
   },
   "outputs": [
    {
     "name": "stdout",
     "output_type": "stream",
     "text": [
      "2 / 1 = 2.0\n"
     ]
    }
   ],
   "source": [
    "a=2\n",
    "b=1\n",
    "c=a/b\n",
    "print(a,'/',b,'=',c)"
   ]
  },
  {
   "cell_type": "code",
   "execution_count": null,
   "metadata": {
    "colab": {
     "base_uri": "https://localhost:8080/"
    },
    "executionInfo": {
     "elapsed": 429,
     "status": "ok",
     "timestamp": 1689168438821,
     "user": {
      "displayName": "HAK",
      "userId": "04912709699462303607"
     },
     "user_tz": -330
    },
    "id": "sKo61JOkUrWR",
    "outputId": "a6fdb6ca-1fad-4b8c-812e-c653af169092"
   },
   "outputs": [
    {
     "name": "stdout",
     "output_type": "stream",
     "text": [
      "hello world!\n",
      "hello world!!!!!\n"
     ]
    }
   ],
   "source": [
    "print(\"hello world!\")\n",
    "print(\"hello world!!!!!\")"
   ]
  },
  {
   "cell_type": "markdown",
   "metadata": {
    "id": "bhquPlmHU1bk"
   },
   "source": [
    "print(\"hello world!\\nhello world!\")"
   ]
  },
  {
   "cell_type": "markdown",
   "metadata": {
    "id": "PJ-gAHuoRjVw"
   },
   "source": [
    "***exercise 1***"
   ]
  },
  {
   "cell_type": "markdown",
   "metadata": {
    "id": "wYRFH9o6Rsia"
   },
   "source": [
    "write a program that prints the some notes from the previous lesson using what you have learnt about the python print function.\n",
    "\n",
    "***NOTE***\n",
    "\n",
    "the output must match the sample output given below\n",
    "\n",
    "***output must be***\n",
    "\n",
    "Day 1 - Python Print Function\n",
    "\n",
    "The function is declared like this:\n",
    "\n",
    "print('what to print')\n",
    "\n"
   ]
  },
  {
   "cell_type": "code",
   "execution_count": null,
   "metadata": {
    "id": "XCOyJd9yTLeV"
   },
   "outputs": [],
   "source": [
    "print (\"day 1 - python print function\\nthe function is declared like this:\")\n",
    "print('what to print')"
   ]
  },
  {
   "cell_type": "markdown",
   "metadata": {
    "id": "sZLUqvGNTQCG"
   },
   "source": [
    "***concatenate***"
   ]
  },
  {
   "cell_type": "code",
   "execution_count": null,
   "metadata": {
    "id": "j-Gin2syVA9m"
   },
   "outputs": [],
   "source": [
    "print('hello'+\"world\")"
   ]
  },
  {
   "cell_type": "code",
   "execution_count": null,
   "metadata": {
    "id": "vwmU-s_ZWjiV"
   },
   "outputs": [],
   "source": [
    "print('hello'+' '+'world')"
   ]
  },
  {
   "cell_type": "markdown",
   "metadata": {
    "id": "7OrYRog7Xg9w"
   },
   "source": [
    "***exercise 2***\n",
    "\n",
    "debugging the code and make it correct"
   ]
  },
  {
   "cell_type": "code",
   "execution_count": 1,
   "metadata": {
    "colab": {
     "base_uri": "https://localhost:8080/"
    },
    "executionInfo": {
     "elapsed": 19,
     "status": "ok",
     "timestamp": 1689337316462,
     "user": {
      "displayName": "HAK",
      "userId": "04912709699462303607"
     },
     "user_tz": -330
    },
    "id": "4dhkCMelYoE8",
    "outputId": "30d08aeb-328b-410d-a849-dfa6783b7612"
   },
   "outputs": [
    {
     "name": "stdout",
     "output_type": "stream",
     "text": [
      "Day 1 - String Manipulation\n",
      "string concatenation is done with the'+' sign.\n",
      "e.g. print(\"hello \"+\"world\")\n",
      "now lines can be created with a backslash and n.\n"
     ]
    }
   ],
   "source": [
    "print(\"Day 1 - String Manipulation\")\n",
    "print(\"string concatenation is done with the'+' sign.\")\n",
    "print('e.g. print(\"hello \"+\"world\")')\n",
    "print(\"now lines can be created with a backslash and n.\")"
   ]
  },
  {
   "cell_type": "markdown",
   "metadata": {
    "id": "Q9xvqPV3ZrgD"
   },
   "source": [
    "***input function***"
   ]
  },
  {
   "cell_type": "code",
   "execution_count": null,
   "metadata": {
    "colab": {
     "base_uri": "https://localhost:8080/"
    },
    "executionInfo": {
     "elapsed": 440,
     "status": "ok",
     "timestamp": 1680848923503,
     "user": {
      "displayName": "HAK",
      "userId": "04912709699462303607"
     },
     "user_tz": -330
    },
    "id": "pybwnaZjYphm",
    "outputId": "832f69e4-420b-4f2a-bc0c-5cb34f93ed5b"
   },
   "outputs": [
    {
     "name": "stdout",
     "output_type": "stream",
     "text": [
      "what is your name?\n"
     ]
    }
   ],
   "source": [
    "print(\"what is your name?\")\n",
    "# I cant't able to enter the name, so that we are introducing input function"
   ]
  },
  {
   "cell_type": "code",
   "execution_count": null,
   "metadata": {
    "colab": {
     "base_uri": "https://localhost:8080/",
     "height": 53
    },
    "executionInfo": {
     "elapsed": 12191,
     "status": "ok",
     "timestamp": 1681390378161,
     "user": {
      "displayName": "HAK",
      "userId": "04912709699462303607"
     },
     "user_tz": -330
    },
    "id": "RNKMxuF1rG1M",
    "outputId": "9d09b862-41cc-4219-a6fa-807d890cde4d"
   },
   "outputs": [
    {
     "name": "stdout",
     "output_type": "stream",
     "text": [
      "what is your namehema\n"
     ]
    },
    {
     "data": {
      "application/vnd.google.colaboratory.intrinsic+json": {
       "type": "string"
      },
      "text/plain": [
       "'hema'"
      ]
     },
     "execution_count": 9,
     "metadata": {},
     "output_type": "execute_result"
    }
   ],
   "source": [
    "input(\"what is your name\")"
   ]
  },
  {
   "cell_type": "code",
   "execution_count": null,
   "metadata": {
    "colab": {
     "base_uri": "https://localhost:8080/",
     "height": 53
    },
    "executionInfo": {
     "elapsed": 3971,
     "status": "ok",
     "timestamp": 1680849019497,
     "user": {
      "displayName": "HAK",
      "userId": "04912709699462303607"
     },
     "user_tz": -330
    },
    "id": "D0Li8OVfZzIJ",
    "outputId": "9f879c91-520f-4ae8-83e0-366c86c4bfe3"
   },
   "outputs": [
    {
     "name": "stdout",
     "output_type": "stream",
     "text": [
      "what is your name?aswin\n"
     ]
    },
    {
     "data": {
      "application/vnd.google.colaboratory.intrinsic+json": {
       "type": "string"
      },
      "text/plain": [
       "'aswin'"
      ]
     },
     "execution_count": 14,
     "metadata": {},
     "output_type": "execute_result"
    }
   ],
   "source": [
    "input('what is your name?')"
   ]
  },
  {
   "cell_type": "code",
   "execution_count": null,
   "metadata": {
    "colab": {
     "base_uri": "https://localhost:8080/"
    },
    "executionInfo": {
     "elapsed": 5254,
     "status": "ok",
     "timestamp": 1680849056962,
     "user": {
      "displayName": "HAK",
      "userId": "04912709699462303607"
     },
     "user_tz": -330
    },
    "id": "wvc6qhLVaL3x",
    "outputId": "7096d701-7f2d-4bf5-a6e1-83e5052cdeb7"
   },
   "outputs": [
    {
     "name": "stdout",
     "output_type": "stream",
     "text": [
      "what is your name?aswin\n",
      "aswin\n"
     ]
    }
   ],
   "source": [
    "print(input(\"what is your name?\"))"
   ]
  },
  {
   "cell_type": "code",
   "execution_count": null,
   "metadata": {
    "id": "j-t4bSx8aVld"
   },
   "outputs": [],
   "source": [
    "print(\"Hello\"+\" \"+input(\"what is your name?\"))"
   ]
  },
  {
   "cell_type": "markdown",
   "metadata": {
    "id": "obJD8ochbXdS"
   },
   "source": [
    "***exercise  3***\n",
    "\n",
    "write the program that prints the number of characters in a user's name. you might need to google for a function that calculates the length of the string.\n",
    "\n",
    "***note***\n",
    "\n",
    "len() is a fuction which is used to print the number of characters present..(only for string)\n",
    "\n",
    "***sample***\n",
    "\n",
    "enter your name?\n",
    "\n",
    "aswin\n",
    "\n",
    "5"
   ]
  },
  {
   "cell_type": "code",
   "execution_count": null,
   "metadata": {
    "colab": {
     "base_uri": "https://localhost:8080/"
    },
    "executionInfo": {
     "elapsed": 9650,
     "status": "ok",
     "timestamp": 1681391027947,
     "user": {
      "displayName": "HAK",
      "userId": "04912709699462303607"
     },
     "user_tz": -330
    },
    "id": "wCBsgft8cLFs",
    "outputId": "4f089ce4-f201-45af-c639-07705247b02e"
   },
   "outputs": [
    {
     "name": "stdout",
     "output_type": "stream",
     "text": [
      "what is your name?shree\n",
      "5\n"
     ]
    }
   ],
   "source": [
    "# write your code here\n",
    "print(len(input(\"what is your name?\")))\n",
    "\n",
    "\n",
    "\n"
   ]
  },
  {
   "cell_type": "code",
   "execution_count": null,
   "metadata": {
    "colab": {
     "base_uri": "https://localhost:8080/"
    },
    "executionInfo": {
     "elapsed": 4511,
     "status": "ok",
     "timestamp": 1681391182741,
     "user": {
      "displayName": "HAK",
      "userId": "04912709699462303607"
     },
     "user_tz": -330
    },
    "id": "AWFM2u2zuFhl",
    "outputId": "25d5239f-b9ac-41db-cadd-a63829b00442"
   },
   "outputs": [
    {
     "name": "stdout",
     "output_type": "stream",
     "text": [
      "name?aswin\n",
      "5\n"
     ]
    }
   ],
   "source": [
    "name = input('name?')\n",
    "len = len(name)\n",
    "print(len)"
   ]
  },
  {
   "cell_type": "markdown",
   "metadata": {
    "id": "UAEApT-AdIWl"
   },
   "source": [
    "***variables***"
   ]
  },
  {
   "cell_type": "code",
   "execution_count": null,
   "metadata": {
    "colab": {
     "base_uri": "https://localhost:8080/"
    },
    "executionInfo": {
     "elapsed": 5030,
     "status": "ok",
     "timestamp": 1680849935618,
     "user": {
      "displayName": "HAK",
      "userId": "04912709699462303607"
     },
     "user_tz": -330
    },
    "id": "ci4adZm-c-Jb",
    "outputId": "c9b391e8-ca6f-4c2b-b74f-aa62ef6128b9"
   },
   "outputs": [
    {
     "name": "stdout",
     "output_type": "stream",
     "text": [
      "enter your name?>>>aswin\n",
      "name\n"
     ]
    }
   ],
   "source": [
    "# variables are used to store something inside it\n",
    "name = input(\"enter your name?>>>\")\n",
    "print(\"name\")"
   ]
  },
  {
   "cell_type": "code",
   "execution_count": null,
   "metadata": {
    "colab": {
     "base_uri": "https://localhost:8080/"
    },
    "executionInfo": {
     "elapsed": 4290,
     "status": "ok",
     "timestamp": 1680849927208,
     "user": {
      "displayName": "HAK",
      "userId": "04912709699462303607"
     },
     "user_tz": -330
    },
    "id": "HXCy5G8odjJh",
    "outputId": "ddd5e293-cd0c-4a52-ce5e-22e2e2fe6700"
   },
   "outputs": [
    {
     "name": "stdout",
     "output_type": "stream",
     "text": [
      "enter your name?>>>aswin\n",
      "aswin\n"
     ]
    }
   ],
   "source": [
    "name = input(\"enter your name?>>>\")\n",
    "print(name)                            # variables are not given inside the quotations"
   ]
  },
  {
   "cell_type": "markdown",
   "metadata": {
    "id": "3UVEILISd_YH"
   },
   "source": [
    "***exercise 4***\n",
    "\n",
    "write a program that switches the values stored in the variables a and b\n",
    "\n",
    "***warning***\n",
    "write your code in the line which you are alloted for..\n",
    "\n",
    "**example input**\n",
    "\n",
    "a: 3\n",
    "\n",
    "b: 5\n",
    "\n",
    "**example output**\n",
    "\n",
    "a: 5\n",
    "\n",
    "b: 3"
   ]
  },
  {
   "cell_type": "code",
   "execution_count": 3,
   "metadata": {
    "colab": {
     "base_uri": "https://localhost:8080/"
    },
    "executionInfo": {
     "elapsed": 8055,
     "status": "ok",
     "timestamp": 1689337412447,
     "user": {
      "displayName": "HAK",
      "userId": "04912709699462303607"
     },
     "user_tz": -330
    },
    "id": "YScRp4BfgEX_",
    "outputId": "7559567a-3687-4735-fa1a-77c76369c4b6"
   },
   "outputs": [
    {
     "name": "stdout",
     "output_type": "stream",
     "text": [
      "a: 2\n",
      "b: 3\n",
      "a: 3\n",
      "b: 2\n"
     ]
    }
   ],
   "source": [
    "# dont change this code below\n",
    "a = input(\"a: \")\n",
    "b = input(\"b: \")\n",
    "# dont change this code above\n",
    "\n",
    "# write your code below this line\n",
    "c=a\n",
    "a=b\n",
    "b=c\n",
    "# write your code above this line\n",
    "\n",
    "# dont change this code below\n",
    "print(\"a:\",a)\n",
    "print(\"b:\",b)\n",
    "# dont change this code above\n"
   ]
  },
  {
   "cell_type": "markdown",
   "metadata": {
    "id": "ua_KpbUOgQWk"
   },
   "source": [
    "***day 1 - project*** - band name generator\n",
    "\n",
    "imagine your friend is asking you to generate a name for his new band. you are going to generate the name by merging the city where they live and the name of their pet or an animal.\n",
    "\n",
    "**sample output**\n",
    "\n",
    "welcome to Band Name Generator.\n",
    "\n",
    "what's the name of the city you grew up in?\n",
    "\n",
    "New York\n",
    "\n",
    "what's your pet's name?\n",
    "\n",
    "Rusty\n",
    "\n",
    "Your band name could be New York Rusty"
   ]
  },
  {
   "cell_type": "code",
   "execution_count": null,
   "metadata": {
    "colab": {
     "base_uri": "https://localhost:8080/"
    },
    "executionInfo": {
     "elapsed": 15078,
     "status": "ok",
     "timestamp": 1681392071705,
     "user": {
      "displayName": "HAK",
      "userId": "04912709699462303607"
     },
     "user_tz": -330
    },
    "id": "Wadz9b8ggFMl",
    "outputId": "d39ca709-2cee-461f-cb0c-8edc0c81715a"
   },
   "outputs": [
    {
     "name": "stdout",
     "output_type": "stream",
     "text": [
      "hello\n",
      "what is ur city name?\n",
      "coimbatore\n",
      "pet name\n",
      "drgons\n",
      "coimbatore drgons\n"
     ]
    }
   ],
   "source": [
    "# create a greeting program\n",
    "print(\"hello\")\n",
    "\n",
    "\n",
    "# ask the user for the city that they  grew up in.\n",
    "a=input(\"what is ur city name?\\n\")\n",
    "# ask the user for the name of a pet\n",
    "b=input(\"pet name\\n\")\n",
    "# combine the name of their city and pet and show the their band name\n",
    "print(a+\" \"+b)\n",
    "# make sure that the input cursor shows on a new line"
   ]
  }
 ],
 "metadata": {
  "colab": {
   "authorship_tag": "ABX9TyPpo2hQ7/tZaS1lhVzQB47I",
   "provenance": []
  },
  "kernelspec": {
   "display_name": "Python 3 (ipykernel)",
   "language": "python",
   "name": "python3"
  },
  "language_info": {
   "codemirror_mode": {
    "name": "ipython",
    "version": 3
   },
   "file_extension": ".py",
   "mimetype": "text/x-python",
   "name": "python",
   "nbconvert_exporter": "python",
   "pygments_lexer": "ipython3",
   "version": "3.11.3"
  }
 },
 "nbformat": 4,
 "nbformat_minor": 1
}
