{
 "cells": [
  {
   "cell_type": "markdown",
   "id": "7e002c89",
   "metadata": {},
   "source": [
    "# Functions with outputs"
   ]
  },
  {
   "cell_type": "markdown",
   "id": "972f7812",
   "metadata": {},
   "source": [
    "***return*** is a keyword used to give output in a function"
   ]
  },
  {
   "cell_type": "code",
   "execution_count": 1,
   "id": "5947bad1",
   "metadata": {},
   "outputs": [
    {
     "data": {
      "text/plain": [
       "6"
      ]
     },
     "execution_count": 1,
     "metadata": {},
     "output_type": "execute_result"
    }
   ],
   "source": [
    "# Example\n",
    "\n",
    "def my_function():\n",
    "\n",
    "    result = 3 * 2\n",
    "    \n",
    "    return result    # output\n",
    "\n",
    "my_function()"
   ]
  },
  {
   "cell_type": "markdown",
   "id": "d8092a42",
   "metadata": {},
   "source": [
    "# Task\n",
    "\n",
    "To write a program for asking user input as their first and last name. Use a function with output which gets the user input as input and returns the user name's first letter of first and last name as capital (title format) and others in lower cases"
   ]
  },
  {
   "cell_type": "code",
   "execution_count": 3,
   "id": "e5f506d5",
   "metadata": {},
   "outputs": [
    {
     "name": "stdout",
     "output_type": "stream",
     "text": [
      "enter your first name : aswin\n",
      "enter your last name : MURALIDHARAN\n",
      "title formated name = Aswin Muralidharan\n"
     ]
    }
   ],
   "source": [
    "# Creating a function with 2 inputs\n",
    "\n",
    "def format_name(f_name, l_name):\n",
    "    \n",
    "    # .title is used to format a string in title format\n",
    "    \n",
    "    result = f_name.title() + ' ' + l_name.title()\n",
    "    \n",
    "    return result         # Output for the fuction\n",
    "\n",
    "first_name = input(\"enter your first name : \")\n",
    "\n",
    "last_name = input(\"enter your last name : \")\n",
    "\n",
    "print(f\"title formated name = {format_name(first_name, last_name)}\")"
   ]
  },
  {
   "cell_type": "markdown",
   "id": "a056b156",
   "metadata": {},
   "source": [
    "We can use multiple return statements inside if else condition."
   ]
  },
  {
   "cell_type": "markdown",
   "id": "60b52201",
   "metadata": {},
   "source": [
    "# Exercise\n",
    "\n",
    "Built a calculator:\n",
    "\n",
    "***Sample output***\n",
    "\n",
    "What's the first number?: 5\n",
    "+\n",
    "-\n",
    "*\n",
    "/\n",
    "Pick an operation: +\n",
    "What's the next number?: 6\n",
    "5.0 + 6.0 = 11.0\n",
    "Type 'y' to continue calculating with 11.0, or type 'n' to start a new calculation: y\n",
    "Pick an operation: /\n",
    "What's the next number?: 2\n",
    "11.0 / 2.0 = 5.5\n",
    "Type 'y' to continue calculating with 5.5, or type 'n' to start a new calculation: n"
   ]
  },
  {
   "cell_type": "code",
   "execution_count": 9,
   "id": "77883093",
   "metadata": {},
   "outputs": [
    {
     "name": "stdout",
     "output_type": "stream",
     "text": [
      "\n",
      " _____________________\n",
      "|  _________________  |\n",
      "| | Pythonista   0. | |  .----------------.  .----------------.  .----------------.  .----------------. \n",
      "| |_________________| | | .--------------. || .--------------. || .--------------. || .--------------. |\n",
      "|  ___ ___ ___   ___  | | |     ______   | || |      __      | || |   _____      | || |     ______   | |\n",
      "| | 7 | 8 | 9 | | + | | | |   .' ___  |  | || |     /  \\     | || |  |_   _|     | || |   .' ___  |  | |\n",
      "| |___|___|___| |___| | | |  / .'   \\_|  | || |    / /\\ \\    | || |    | |       | || |  / .'   \\_|  | |\n",
      "| | 4 | 5 | 6 | | - | | | |  | |         | || |   / ____ \\   | || |    | |   _   | || |  | |         | |\n",
      "| |___|___|___| |___| | | |  \\ `.___.'\\  | || | _/ /    \\ \\_ | || |   _| |__/ |  | || |  \\ `.___.'\\  | |\n",
      "| | 1 | 2 | 3 | | x | | | |   `._____.'  | || ||____|  |____|| || |  |________|  | || |   `._____.'  | |\n",
      "| |___|___|___| |___| | | |              | || |              | || |              | || |              | |\n",
      "| | . | 0 | = | | / | | | '--------------' || '--------------' || '--------------' || '--------------' |\n",
      "| |___|___|___| |___| |  '----------------'  '----------------'  '----------------'  '----------------' \n",
      "|_____________________|\n",
      "\n",
      "What's the first number?: 1\n",
      "+\n",
      "-\n",
      "*\n",
      "/\n",
      "Pick an operation: *\n",
      "What's the next number?: 5\n",
      "1.0 * 5.0 = 5.0\n",
      "Type 'y' to continue calculating with 5.0, or type 'n' to start a new calculation: n\n",
      "\u001b[H\u001b[2J"
     ]
    }
   ],
   "source": [
    "logo = \"\"\"\n",
    " _____________________\n",
    "|  _________________  |\n",
    "| | Pythonista   0. | |  .----------------.  .----------------.  .----------------.  .----------------. \n",
    "| |_________________| | | .--------------. || .--------------. || .--------------. || .--------------. |\n",
    "|  ___ ___ ___   ___  | | |     ______   | || |      __      | || |   _____      | || |     ______   | |\n",
    "| | 7 | 8 | 9 | | + | | | |   .' ___  |  | || |     /  \\     | || |  |_   _|     | || |   .' ___  |  | |\n",
    "| |___|___|___| |___| | | |  / .'   \\_|  | || |    / /\\ \\    | || |    | |       | || |  / .'   \\_|  | |\n",
    "| | 4 | 5 | 6 | | - | | | |  | |         | || |   / ____ \\   | || |    | |   _   | || |  | |         | |\n",
    "| |___|___|___| |___| | | |  \\ `.___.'\\  | || | _/ /    \\ \\_ | || |   _| |__/ |  | || |  \\ `.___.'\\  | |\n",
    "| | 1 | 2 | 3 | | x | | | |   `._____.'  | || ||____|  |____|| || |  |________|  | || |   `._____.'  | |\n",
    "| |___|___|___| |___| | | |              | || |              | || |              | || |              | |\n",
    "| | . | 0 | = | | / | | | '--------------' || '--------------' || '--------------' || '--------------' |\n",
    "| |___|___|___| |___| |  '----------------'  '----------------'  '----------------'  '----------------' \n",
    "|_____________________|\n",
    "\"\"\"\n",
    "\n",
    "\n",
    "def add(n1, n2):\n",
    "  return n1 + n2\n",
    "\n",
    "def subtract(n1, n2):\n",
    "  return n1 - n2\n",
    "\n",
    "def multiply(n1, n2):\n",
    "  return n1 * n2\n",
    "\n",
    "def divide(n1, n2):\n",
    "  return n1 / n2\n",
    "\n",
    "operations = {\n",
    "  \"+\": add,\n",
    "  \"-\": subtract,\n",
    "  \"*\": multiply,\n",
    "  \"/\": divide\n",
    "}\n",
    "\n",
    "def calculator():\n",
    "  print(logo)\n",
    "\n",
    "  num1 = float(input(\"What's the first number?: \"))\n",
    "  for symbol in operations:\n",
    "    print(symbol)\n",
    "  should_continue = True\n",
    " \n",
    "  while should_continue:\n",
    "    operation_symbol = input(\"Pick an operation: \")\n",
    "    num2 = float(input(\"What's the next number?: \"))\n",
    "    calculation_function = operations[operation_symbol]\n",
    "    answer = calculation_function(num1, num2)\n",
    "    print(f\"{num1} {operation_symbol} {num2} = {answer}\")\n",
    "\n",
    "    if input(f\"Type 'y' to continue calculating with {answer}, or type 'n' to start a new calculation: \") == 'y':\n",
    "      num1 = answer\n",
    "    else:\n",
    "      should_continue = False\n",
    "      clear()\n",
    "      \n",
    "\n",
    "calculator()\n"
   ]
  }
 ],
 "metadata": {
  "kernelspec": {
   "display_name": "Python 3 (ipykernel)",
   "language": "python",
   "name": "python3"
  },
  "language_info": {
   "codemirror_mode": {
    "name": "ipython",
    "version": 3
   },
   "file_extension": ".py",
   "mimetype": "text/x-python",
   "name": "python",
   "nbconvert_exporter": "python",
   "pygments_lexer": "ipython3",
   "version": "3.11.3"
  }
 },
 "nbformat": 4,
 "nbformat_minor": 5
}
