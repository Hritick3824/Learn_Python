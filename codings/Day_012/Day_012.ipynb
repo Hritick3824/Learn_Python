{
 "cells": [
  {
   "cell_type": "markdown",
   "metadata": {},
   "source": [
    "# NameSpace"
   ]
  },
  {
   "cell_type": "markdown",
   "metadata": {},
   "source": [
    "***Scope:***\n",
    "\n",
    "For an example, you are planting a tree in a garden which is inside your house. Now the Tree can be viewed only by your family. but if you plant the same tree outside the house, then the tree can be viewed by anyone from both inside and outside the house."
   ]
  },
  {
   "cell_type": "code",
   "execution_count": 2,
   "metadata": {},
   "outputs": [
    {
     "name": "stdout",
     "output_type": "stream",
     "text": [
      "enemies inside the function ==> 2\n",
      "enemies outside the function ==> 1\n"
     ]
    }
   ],
   "source": [
    "# Example\n",
    "\n",
    "enemies = 1\n",
    "\n",
    "def increase_enemies():\n",
    "    enemies = 2\n",
    "    print(f\"enemies inside the function ==> {enemies}\")\n",
    "\n",
    "increase_enemies()\n",
    "print(f\"enemies outside the function ==> {enemies}\")"
   ]
  },
  {
   "cell_type": "markdown",
   "metadata": {},
   "source": [
    "when you find the output of the previous code, then you can understand the term called ***Global and Local scope.*** otherwise known as ***NameSpace.***"
   ]
  },
  {
   "cell_type": "markdown",
   "metadata": {},
   "source": [
    "## Local Space\n",
    "\n",
    "Local Space is the variable which cannot be accessed at anywhere of the file. because it's scope is only in local.\n",
    "\n",
    "**example** : variable inside a function given below"
   ]
  },
  {
   "cell_type": "code",
   "execution_count": 3,
   "metadata": {},
   "outputs": [
    {
     "ename": "NameError",
     "evalue": "name 'potion_strength' is not defined",
     "output_type": "error",
     "traceback": [
      "\u001b[1;31m---------------------------------------------------------------------------\u001b[0m",
      "\u001b[1;31mNameError\u001b[0m                                 Traceback (most recent call last)",
      "Cell \u001b[1;32mIn[3], line 5\u001b[0m\n\u001b[0;32m      2\u001b[0m     potion_strength \u001b[39m=\u001b[39m \u001b[39m5\u001b[39m\n\u001b[0;32m      3\u001b[0m     \u001b[39mprint\u001b[39m(potion_strength)\n\u001b[1;32m----> 5\u001b[0m \u001b[39mprint\u001b[39m(potion_strength)\n",
      "\u001b[1;31mNameError\u001b[0m: name 'potion_strength' is not defined"
     ]
    }
   ],
   "source": [
    "def  drink_potion():\n",
    "    potion_strength = 5         # Local Variable, it's scope is only inside the function\n",
    "    print(potion_strength)\n",
    "\n",
    "print(potion_strength)"
   ]
  },
  {
   "cell_type": "markdown",
   "metadata": {},
   "source": [
    "The above error is because the variable **potion_strength** is not assigned. but it is assigned inside a function. so if we need to print the **potion_strength**, we need to call the fuction, because the variable is local in the function. The Scope of the **Local Variable** is limited (i.e.,) It's scope is within the function and not outside the function anywhere."
   ]
  },
  {
   "cell_type": "code",
   "execution_count": 4,
   "metadata": {},
   "outputs": [
    {
     "name": "stdout",
     "output_type": "stream",
     "text": [
      "5\n",
      "None\n"
     ]
    }
   ],
   "source": [
    "def  drink_potion():\n",
    "    potion_strength = 5         # Local Variable, it's scope is only inside the function\n",
    "    print(potion_strength)\n",
    "\n",
    "print(drink_potion())\n"
   ]
  },
  {
   "cell_type": "markdown",
   "metadata": {},
   "source": [
    "## Global Space\n",
    "\n",
    "In **Global Space** the variable is declared outside the function. so that we can use the variable either inside the funtion or outside the function. (i.e.,) anywhere in our file.\n",
    "\n",
    "**Example Below**"
   ]
  },
  {
   "cell_type": "code",
   "execution_count": 5,
   "metadata": {},
   "outputs": [
    {
     "name": "stdout",
     "output_type": "stream",
     "text": [
      "aswin\n",
      "aswin\n",
      "None\n"
     ]
    }
   ],
   "source": [
    "name = 'aswin'\n",
    "def print_name():\n",
    "    print(name)\n",
    "\n",
    "print(name)             # we can access the variable using variable name\n",
    "print(print_name())     # and also using functions anywhere"
   ]
  },
  {
   "cell_type": "markdown",
   "metadata": {},
   "source": [
    "***NOTE:***\n",
    "\n",
    "If an variable is created or assined inside the loop or if statements then it is also Global Scope. Because we can access it outside the block."
   ]
  },
  {
   "cell_type": "code",
   "execution_count": 6,
   "metadata": {},
   "outputs": [
    {
     "name": "stdout",
     "output_type": "stream",
     "text": [
      "skeleton\n"
     ]
    }
   ],
   "source": [
    "game_level = 3\n",
    "enemies = ['skeleton','alien','zombie']   # Variable Outside the block\n",
    "\n",
    "if game_level < 5:\n",
    "    new_enemy = enemies[0]                # Variable Inside the block\n",
    "\n",
    "print(new_enemy)                          # accessing the variable which is inside the block from outside the block"
   ]
  },
  {
   "cell_type": "markdown",
   "metadata": {},
   "source": [
    "## Modifying Global Scope\n",
    "\n",
    "Yes, we can modify Global Scope by adding **gobal** in front of the variable. \n",
    "\n",
    "Let's take our 1st Example:"
   ]
  },
  {
   "cell_type": "code",
   "execution_count": 8,
   "metadata": {},
   "outputs": [
    {
     "name": "stdout",
     "output_type": "stream",
     "text": [
      "enemies inside the function ==> 1\n",
      "enemies outside the function ==> 1\n"
     ]
    }
   ],
   "source": [
    "# Example\n",
    "\n",
    "enemies = 1\n",
    "\n",
    "def increase_enemies():\n",
    "    global enemies\n",
    "    print(f\"enemies inside the function ==> {enemies}\")\n",
    "\n",
    "increase_enemies()\n",
    "print(f\"enemies outside the function ==> {enemies}\")"
   ]
  },
  {
   "cell_type": "markdown",
   "metadata": {},
   "source": [
    "### Applications of ***Global***\n",
    "\n",
    "we can use ***global*** while we are using some constants"
   ]
  },
  {
   "cell_type": "code",
   "execution_count": 9,
   "metadata": {},
   "outputs": [
    {
     "name": "stdout",
     "output_type": "stream",
     "text": [
      "the pi value is constant ==> 3.14\n"
     ]
    }
   ],
   "source": [
    "# Example\n",
    "\n",
    "pi = 3.14\n",
    "\n",
    "def circle():\n",
    "    global pi\n",
    "    print(f\"the pi value is constant ==> {pi}\")\n",
    "\n",
    "circle()"
   ]
  },
  {
   "cell_type": "markdown",
   "metadata": {},
   "source": [
    "# Task\n",
    "\n",
    "**Create a number Guessing game with following comments**\n",
    "\n",
    "    #Number Guessing Game Objectives:\n",
    "\n",
    "    # Include an ASCII art logo.(Optional)\n",
    "    # Allow the player to submit a guess for a number between 1 and 100.\n",
    "    # Check user's guess against actual answer. Print \"Too high.\" or \"Too low.\" depending on the user's answer. \n",
    "    # If they got the answer correct, show the actual answer to the player.\n",
    "    # Track the number of turns remaining.\n",
    "    # If they run out of turns, provide feedback to the player. \n",
    "    # Include two different difficulty levels (e.g., 10 guesses in easy mode, only 5 guesses in hard mode).\n",
    "\n"
   ]
  },
  {
   "cell_type": "code",
   "execution_count": 26,
   "metadata": {},
   "outputs": [
    {
     "name": "stdout",
     "output_type": "stream",
     "text": [
      "You have 10 more lives\n",
      "Too low\n",
      "You have 9 more lives\n",
      "Too low\n",
      "You have 8 more lives\n",
      "Too low\n",
      "You have 7 more lives\n",
      "Too high\n",
      "You have 6 more lives\n",
      "Too high\n",
      "You have 5 more lives\n",
      "Too low\n",
      "You have 4 more lives\n",
      "Too low\n",
      "You have 3 more lives\n",
      "Too low\n",
      "You have 2 more lives\n",
      "Too low\n",
      "You have 1 more lives\n",
      "Too low\n",
      "You have 0 more lives\n",
      "you had run out of lives, and the actual number is 78\n"
     ]
    }
   ],
   "source": [
    "# Include an ASCII art logo.(Optional)\n",
    "\n",
    "# Step 2 ==> generating random number between 1 - 100\n",
    "import random as r\n",
    "actual_num = int(r.randint(1,100))\n",
    "# print(f\"the actual number is {actual_num}\")\n",
    "\n",
    "# Step 3 ==> Allow the player to submit a guess for a number between 1 and 100.\n",
    "def user_guess():\n",
    "    guessed_num = int(input(\"enter the guessed number between 1 to 100\"))\n",
    "    \n",
    "    # Step 4 ==> Check user's guess against actual answer. Print \"Too high.\" or \"Too low.\" depending on the user's answer. \n",
    "    if guessed_num < actual_num:\n",
    "        print(\"Too low\")\n",
    "    elif guessed_num > actual_num:\n",
    "        print(\"Too high\")\n",
    "    \n",
    "    # Step 5 ==> If they got the answer correct, show the actual answer to the player.\n",
    "    else:\n",
    "        print(f\" Yes you got the answer ==> {actual_num}\")\n",
    "        return True\n",
    "    return False\n",
    "\n",
    "\n",
    "# If they run out of turns, provide feedback to the player. \n",
    "\n",
    "# Step 1 ==> Include two different difficulty levels (e.g., 10 guesses in easy mode, only 5 guesses in hard mode).\n",
    "game_mode = input(\"which mode do you want to prefer ==> 'easy' or 'hard : \")\n",
    "guess = 0\n",
    "if game_mode == 'hard':\n",
    "    guess += 5\n",
    "if game_mode == 'easy':\n",
    "    guess += 10\n",
    "print(f\"You have {guess} more lives\")\n",
    "\n",
    "while guess!=0:\n",
    "    # Step 6 ==> Track the number of turns remaining.\n",
    "    if user_guess():\n",
    "        break\n",
    "    guess -= 1\n",
    "    # user_guess()\n",
    "    print(f\"You have {guess} more lives\")\n",
    "\n",
    "if guess == 0:\n",
    "    print(f\"you had run out of lives, and the actual number is {actual_num}\")"
   ]
  }
 ],
 "metadata": {
  "kernelspec": {
   "display_name": "Python 3",
   "language": "python",
   "name": "python3"
  },
  "language_info": {
   "codemirror_mode": {
    "name": "ipython",
    "version": 3
   },
   "file_extension": ".py",
   "mimetype": "text/x-python",
   "name": "python",
   "nbconvert_exporter": "python",
   "pygments_lexer": "ipython3",
   "version": "3.11.4"
  },
  "orig_nbformat": 4
 },
 "nbformat": 4,
 "nbformat_minor": 2
}
