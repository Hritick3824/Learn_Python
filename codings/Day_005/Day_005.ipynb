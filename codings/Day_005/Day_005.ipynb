{
 "cells": [
  {
   "cell_type": "markdown",
   "id": "ab072560",
   "metadata": {},
   "source": [
    "# Loops with Python Lists"
   ]
  },
  {
   "cell_type": "code",
   "execution_count": 1,
   "id": "14a46c28",
   "metadata": {},
   "outputs": [
    {
     "name": "stdout",
     "output_type": "stream",
     "text": [
      "apple\n",
      "banana\n",
      "mango\n"
     ]
    }
   ],
   "source": [
    "fruits = ['apple','banana','mango'] # list\n",
    "for i in fruits:                    # for every element in the list\n",
    "    print(i)                        # print the element"
   ]
  },
  {
   "cell_type": "markdown",
   "id": "79ef9b63",
   "metadata": {},
   "source": [
    "***Note***\n",
    "\n",
    "In the list of fruits there are three items. Each are individually assingned to the variable 'i' in for loop. Loop runs again and again till the list are completely taken.\n",
    "\n",
    "***Syntax***\n",
    "\n",
    "for items in list_of_items:\n",
    "\n",
    "    do something to each item"
   ]
  },
  {
   "cell_type": "markdown",
   "id": "e110c251",
   "metadata": {},
   "source": [
    "# Task\n",
    "\n",
    "To write a code that calculates the average student height from a list of heights"
   ]
  },
  {
   "cell_type": "code",
   "execution_count": 4,
   "id": "641768eb",
   "metadata": {},
   "outputs": [
    {
     "name": "stdout",
     "output_type": "stream",
     "text": [
      "enter the list of students heights115 120 130\n",
      "list of student height ==> [115, 120, 130]\n",
      "the total of height == 365\n",
      "the average height of the students are ==> 121.66666666666667\n"
     ]
    }
   ],
   "source": [
    "# dont change the code below\n",
    "student_height = input(\"enter the list of students heights\").split()\n",
    "for n in range(0,len(student_height)):\n",
    "    student_height[n] = int(student_height[n])\n",
    "print(\"list of student height ==>\", student_height)\n",
    "# dont change the code above\n",
    "# your code\n",
    "tot_height = 0                                    # intializing a variable as 0\n",
    "for i in student_height:                          # adding the given heights by iterating the list\n",
    "    tot_height += i\n",
    "print(f\"the total of height == {tot_height}\")\n",
    "average_height = tot_height / len(student_height) # taking average\n",
    "print(f\"the average height of the students are ==> {average_height}\")"
   ]
  },
  {
   "cell_type": "markdown",
   "id": "0a22103c",
   "metadata": {},
   "source": [
    "# Task\n",
    "To write a program that calculates the heighest score from a list of scores"
   ]
  },
  {
   "cell_type": "code",
   "execution_count": 7,
   "id": "cbfca21f",
   "metadata": {},
   "outputs": [
    {
     "name": "stdout",
     "output_type": "stream",
     "text": [
      "input a list of scores: 49 45 50 75 88 90 35 60 55\n",
      "the list of student scores ==> [49, 45, 50, 75, 88, 90, 35, 60, 55]\n",
      "the heighest score of the student in the given list is ==> 90\n"
     ]
    }
   ],
   "source": [
    "# dont change the code below\n",
    "student_score = input(\"input a list of scores: \").split()\n",
    "for n in range(0,len(student_score)):\n",
    "    student_score[n] = int(student_score[n])\n",
    "print(\"the list of student scores ==>\", student_score)\n",
    "# dont change the code above\n",
    "# your code\n",
    "\n",
    "x = 0\n",
    "for i in student_score:\n",
    "    if i > x:\n",
    "        x = i\n",
    "    else:\n",
    "        pass\n",
    "\n",
    "print(f\"the heighest score of the student in the given list is ==> {x}\")"
   ]
  },
  {
   "cell_type": "markdown",
   "id": "7d476847",
   "metadata": {},
   "source": [
    "## Summation of numbers ranges from 1 to 100"
   ]
  },
  {
   "cell_type": "code",
   "execution_count": 11,
   "id": "24259019",
   "metadata": {},
   "outputs": [
    {
     "name": "stdout",
     "output_type": "stream",
     "text": [
      "the summation of numbers ranges from 1 to 100 ==> 5050\n"
     ]
    }
   ],
   "source": [
    "x = 0\n",
    "for i in range(0,101):\n",
    "    x =  x + i\n",
    "print(f\"the summation of numbers ranges from 1 to 100 ==> {x}\")"
   ]
  },
  {
   "cell_type": "markdown",
   "id": "0e76564b",
   "metadata": {},
   "source": [
    "# Task\n",
    "To write a program that calculate tehe sum of all the even numbers from 1 to 100 including 1 and 100"
   ]
  },
  {
   "cell_type": "code",
   "execution_count": 15,
   "id": "e73b0c27",
   "metadata": {},
   "outputs": [
    {
     "name": "stdout",
     "output_type": "stream",
     "text": [
      "the summation of all even numbers ranges from 1 to 100 ==> 2550\n"
     ]
    }
   ],
   "source": [
    "# generating numbers 1 to 100\n",
    "numbers = []\n",
    "for i in range(1,101):\n",
    "    numbers.append(i)\n",
    "# adding even numbers in the list\n",
    "sum_even = 0\n",
    "for even in numbers:\n",
    "    if even % 2 == 0:\n",
    "        sum_even += even\n",
    "    else:\n",
    "        pass\n",
    "print(f\"the summation of all even numbers ranges from 1 to 100 ==> {sum_even}\")"
   ]
  },
  {
   "cell_type": "markdown",
   "id": "bc72c7ea",
   "metadata": {},
   "source": [
    "# Task\n",
    "To write a program that automatically prints the solution to the FizzBuzz game\n",
    "\n",
    "1. print each number from 1 - 100\n",
    "2. when the number is divisible by 3 instead it should print fizz\n",
    "3. when the number is divisible by 5 instead it should print buzz\n",
    "4. when the number is divisible by both 3 and 5 it should print fizzbuzz"
   ]
  },
  {
   "cell_type": "code",
   "execution_count": 17,
   "id": "7e28a67d",
   "metadata": {},
   "outputs": [
    {
     "name": "stdout",
     "output_type": "stream",
     "text": [
      "1\n",
      "2\n",
      "Fizz\n",
      "4\n",
      "Buzz\n",
      "Fizz\n",
      "7\n",
      "8\n",
      "Fizz\n",
      "Buzz\n",
      "11\n",
      "Fizz\n",
      "13\n",
      "14\n",
      "FizzBuzz\n",
      "16\n",
      "17\n",
      "Fizz\n",
      "19\n",
      "Buzz\n",
      "Fizz\n",
      "22\n",
      "23\n",
      "Fizz\n",
      "Buzz\n",
      "26\n",
      "Fizz\n",
      "28\n",
      "29\n",
      "FizzBuzz\n",
      "31\n",
      "32\n",
      "Fizz\n",
      "34\n",
      "Buzz\n",
      "Fizz\n",
      "37\n",
      "38\n",
      "Fizz\n",
      "Buzz\n",
      "41\n",
      "Fizz\n",
      "43\n",
      "44\n",
      "FizzBuzz\n",
      "46\n",
      "47\n",
      "Fizz\n",
      "49\n",
      "Buzz\n",
      "Fizz\n",
      "52\n",
      "53\n",
      "Fizz\n",
      "Buzz\n",
      "56\n",
      "Fizz\n",
      "58\n",
      "59\n",
      "FizzBuzz\n",
      "61\n",
      "62\n",
      "Fizz\n",
      "64\n",
      "Buzz\n",
      "Fizz\n",
      "67\n",
      "68\n",
      "Fizz\n",
      "Buzz\n",
      "71\n",
      "Fizz\n",
      "73\n",
      "74\n",
      "FizzBuzz\n",
      "76\n",
      "77\n",
      "Fizz\n",
      "79\n",
      "Buzz\n",
      "Fizz\n",
      "82\n",
      "83\n",
      "Fizz\n",
      "Buzz\n",
      "86\n",
      "Fizz\n",
      "88\n",
      "89\n",
      "FizzBuzz\n",
      "91\n",
      "92\n",
      "Fizz\n",
      "94\n",
      "Buzz\n",
      "Fizz\n",
      "97\n",
      "98\n",
      "Fizz\n",
      "Buzz\n"
     ]
    }
   ],
   "source": [
    "numbers = []\n",
    "for i in range(1,101):\n",
    "    numbers.append(i)\n",
    "    \n",
    "for i in numbers:\n",
    "    if (i % 3 == 0) and (i % 5 == 0):\n",
    "        print('FizzBuzz')\n",
    "    elif i % 3 == 0:\n",
    "        print('Fizz')\n",
    "    elif i % 5 == 0:\n",
    "        print('Buzz')\n",
    "    else:\n",
    "        print(i)"
   ]
  },
  {
   "cell_type": "markdown",
   "id": "a1667035",
   "metadata": {},
   "source": [
    "# Task\n",
    "To generate a password\n",
    "\n",
    "## Sample Output\n",
    "\n",
    "How many letters would you like in your password ? ==> 4\n",
    "\n",
    "How many symbols would you like in your password ? ==> 2\n",
    "\n",
    "How many numbers would you like in your password ? ==> 2\n",
    "\n",
    "Here is your password ==> OgUf0((3 "
   ]
  },
  {
   "cell_type": "code",
   "execution_count": 28,
   "id": "a7877569",
   "metadata": {},
   "outputs": [
    {
     "name": "stdout",
     "output_type": "stream",
     "text": [
      "How many letters would you like in your password ? ==> 4\n",
      "How many numbers would you like in your password ? ==> 2\n",
      "How many symbols would you like in your password ? ==> 2\n",
      "['x', 'T', 'F', 'R', 0, 5, '@', '-']\n",
      "Here is your password ==> -R05@TFx\n"
     ]
    }
   ],
   "source": [
    "# import random package\n",
    "import random\n",
    "\n",
    "# Creating a list containing symbols, alphabets, numbers\n",
    "letter = 'a,b,c,d,e,f,g,h,i,j,k,l,m,n,o,p,q,r,s,t,u,v,w,x,y,z,A,B,C,D,E,F,G,H,I,J,K,L,M,N,O,P,Q,R,S,T,U,V,W,X,Y,Z'\n",
    "list_letters = letter.split(\",\")\n",
    "number = [0,1,2,3,4,5,6,7,8,9]\n",
    "symbols = [\"!\",\"@\",\"#\",\"$\",\"%\",\"^\",\"&\",\"*\",\"(\",\")\",\"-\",\"+\"]\n",
    "\n",
    "# user input\n",
    "len_letters = input(\"How many letters would you like in your password ? ==> \")\n",
    "len_numbers = input(\"How many numbers would you like in your password ? ==> \")\n",
    "len_symbols = input(\"How many symbols would you like in your password ? ==> \")\n",
    "\n",
    "# printing the output\n",
    "len_password = int(len_letters) + int(len_numbers) + int(len_symbols)\n",
    "\n",
    "letters_password = random.sample(list_letters, int(len_letters))\n",
    "numbers_password = random.sample(number, int(len_numbers))\n",
    "symbols_password = random.sample(symbols, int(len_symbols))\n",
    "\n",
    "password = letters_password + numbers_password + symbols_password\n",
    "print(password)\n",
    "\n",
    "password = random.sample(password, len_password)\n",
    "\n",
    "password_str = ''\n",
    "for i in password:\n",
    "    password_str += str(i)\n",
    "print(f'Here is your password ==> {password_str}')"
   ]
  }
 ],
 "metadata": {
  "kernelspec": {
   "display_name": "Python 3 (ipykernel)",
   "language": "python",
   "name": "python3"
  },
  "language_info": {
   "codemirror_mode": {
    "name": "ipython",
    "version": 3
   },
   "file_extension": ".py",
   "mimetype": "text/x-python",
   "name": "python",
   "nbconvert_exporter": "python",
   "pygments_lexer": "ipython3",
   "version": "3.11.3"
  }
 },
 "nbformat": 4,
 "nbformat_minor": 5
}
