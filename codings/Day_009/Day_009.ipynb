{
 "cells": [
  {
   "cell_type": "markdown",
   "id": "d7d10dbb",
   "metadata": {},
   "source": [
    "# Dictionary\n",
    "\n",
    "Dictionary simply consists of Key - Value pair.\n",
    "\n",
    "    where,\n",
    "\n",
    "        Key = Question\n",
    "        \n",
    "        Value = Answer\n",
    "\n",
    "***Syntax***\n",
    "\n",
    "==> {key : value}\n",
    "\n",
    "==> {key 1 : value 1, key 2 : value 2 ..... key n : value n}"
   ]
  },
  {
   "cell_type": "code",
   "execution_count": 3,
   "id": "f94033c3",
   "metadata": {},
   "outputs": [
    {
     "name": "stdout",
     "output_type": "stream",
     "text": [
      "{'bug': 'An error in a program that prevents the program for running as expected', 'function': 'A peice of code that you can easily call over and over again', 'loop': 'The action of doing something over and over again'}\n"
     ]
    }
   ],
   "source": [
    "# Example\n",
    "\n",
    "dct = {\n",
    "    \"bug\" : 'An error in a program that prevents the program for running as expected',\n",
    "    \"function\" : 'A peice of code that you can easily call over and over again',\n",
    "    \"loop\" : 'The action of doing something over and over again'\n",
    "}\n",
    "\n",
    "print(dct)"
   ]
  },
  {
   "cell_type": "markdown",
   "id": "4b6181f1",
   "metadata": {},
   "source": [
    "==> ***dictionary[key]*** gives the value of the relevant key"
   ]
  },
  {
   "cell_type": "code",
   "execution_count": 4,
   "id": "cedaaa24",
   "metadata": {},
   "outputs": [
    {
     "name": "stdout",
     "output_type": "stream",
     "text": [
      "An error in a program that prevents the program for running as expected\n"
     ]
    }
   ],
   "source": [
    "print(dct[\"bug\"])"
   ]
  },
  {
   "cell_type": "markdown",
   "id": "251ebb21",
   "metadata": {},
   "source": [
    "==> ***dictionary[key] = value*** is used for adding and editing an item in dictionary"
   ]
  },
  {
   "cell_type": "code",
   "execution_count": 10,
   "id": "d2d5332d",
   "metadata": {},
   "outputs": [
    {
     "name": "stdout",
     "output_type": "stream",
     "text": [
      "{'bug': 'An error in a program that prevents the program for running as expected', 'function': 'A peice of code that you can easily call over and over again', 'loop': 'The action of doing something over and over again', 'source': 'Jupyter notebook'}\n"
     ]
    }
   ],
   "source": [
    "dct['source'] = 'Jupyter notebook' # Adding an item\n",
    "\n",
    "print(dct)"
   ]
  },
  {
   "cell_type": "code",
   "execution_count": 11,
   "id": "51ff370e",
   "metadata": {},
   "outputs": [
    {
     "name": "stdout",
     "output_type": "stream",
     "text": [
      "{'bug': 'An error in a program that prevents the program for running as expected', 'function': 'A peice of code that you can easily call over and over again', 'loop': 'The action of doing something over and over again', 'source': 'google colab'}\n"
     ]
    }
   ],
   "source": [
    "dct['source'] = 'google colab'       # Editing an item\n",
    "print(dct)"
   ]
  },
  {
   "cell_type": "markdown",
   "id": "92665b04",
   "metadata": {},
   "source": [
    "==> ***dictionary = {}*** is used to wipe an dictionary"
   ]
  },
  {
   "cell_type": "code",
   "execution_count": 12,
   "id": "eec0a001",
   "metadata": {},
   "outputs": [
    {
     "name": "stdout",
     "output_type": "stream",
     "text": [
      "{}\n"
     ]
    }
   ],
   "source": [
    "dct = {}         # wiping an dictionary\n",
    "print(dct)"
   ]
  },
  {
   "cell_type": "markdown",
   "id": "398f07aa",
   "metadata": {},
   "source": [
    "**Looping through an dictionary**"
   ]
  },
  {
   "cell_type": "code",
   "execution_count": 14,
   "id": "341654dd",
   "metadata": {},
   "outputs": [
    {
     "name": "stdout",
     "output_type": "stream",
     "text": [
      "key ==> name \t value ==> aswin\n",
      "key ==> age \t value ==> 19\n",
      "key ==> course \t value ==> Python\n"
     ]
    }
   ],
   "source": [
    "dct_1 = {\n",
    "    'name' : 'aswin',\n",
    "    'age' : 19,\n",
    "    'course' : 'Python'\n",
    "}\n",
    "\n",
    "for key in dct_1:\n",
    "    print(f\"key ==> {key} \\t value ==> {dct_1[key]}\")"
   ]
  },
  {
   "cell_type": "markdown",
   "id": "4fc4bed6",
   "metadata": {},
   "source": [
    "In dictionaries, we can add dictionaries, list, tuple, string, and any data type."
   ]
  },
  {
   "cell_type": "markdown",
   "id": "9c4d142f",
   "metadata": {},
   "source": [
    "# Task\n",
    "\n",
    "Convert marks of students in a given dictionary into grades and use empty dictionary \"student_grades\" for appending converted values.\n",
    "\n",
    "91 - 100 = 'outstanding'\n",
    "\n",
    "81 - 90 = 'exceeds expectation'\n",
    "\n",
    "71 - 80 = 'acceptable'\n",
    "\n",
    "below 70 = 'Fail'"
   ]
  },
  {
   "cell_type": "code",
   "execution_count": 21,
   "id": "31c844c3",
   "metadata": {},
   "outputs": [
    {
     "name": "stdout",
     "output_type": "stream",
     "text": [
      "{'Harry': 'Exceeds Expectation', 'Ron': 'Acceptable', 'Hermione': 'Outstanding', 'Draco': 'Fail'}\n"
     ]
    }
   ],
   "source": [
    "# Given code\n",
    "\n",
    "student_scores = {\n",
    "    \n",
    "    \"Harry\" : 81,\n",
    "    \n",
    "    \"Ron\" : 78,\n",
    "    \n",
    "    \"Hermione\" : 99,\n",
    "    \n",
    "    \"Draco\" : 62\n",
    "}\n",
    "\n",
    "# Your Code\n",
    "\n",
    "student_grades = {}\n",
    "\n",
    "for key in student_scores:\n",
    "    \n",
    "    if student_scores[key] <= 99 and student_scores[key] >= 91:\n",
    "        \n",
    "        student_grades[key] = \"Outstanding\"\n",
    "        \n",
    "    elif student_scores[key] <= 90 and student_scores[key] >= 81:\n",
    "        \n",
    "        student_grades[key] = \"Exceeds Expectation\"\n",
    "\n",
    "    elif student_scores[key] <= 80 and student_scores[key] >= 71:\n",
    "        \n",
    "        student_grades[key] = \"Acceptable\"\n",
    "        \n",
    "    else:\n",
    "        student_grades[key] = \"Fail\"\n",
    "        \n",
    "print(student_grades)"
   ]
  }
 ],
 "metadata": {
  "kernelspec": {
   "display_name": "Python 3 (ipykernel)",
   "language": "python",
   "name": "python3"
  },
  "language_info": {
   "codemirror_mode": {
    "name": "ipython",
    "version": 3
   },
   "file_extension": ".py",
   "mimetype": "text/x-python",
   "name": "python",
   "nbconvert_exporter": "python",
   "pygments_lexer": "ipython3",
   "version": "3.11.3"
  }
 },
 "nbformat": 4,
 "nbformat_minor": 5
}
