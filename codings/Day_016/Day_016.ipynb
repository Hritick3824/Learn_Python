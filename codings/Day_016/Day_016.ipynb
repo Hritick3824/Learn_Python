{
 "cells": [
  {
   "cell_type": "markdown",
   "metadata": {},
   "source": [
    "# OOPS ==> Object Oriented Programming"
   ]
  },
  {
   "cell_type": "markdown",
   "metadata": {},
   "source": [
    "Used for complex programming.\n",
    "\n",
    "As like Dynammic Programming.\n",
    "\n",
    "Imagine a self driving car. there are many section like, camera for identifying, maps for giving routes and lane assistance for identifying whether the car is following the lane or not.\n",
    "\n",
    "for these like examples, there are large complex codes.. to organize these code, OOP comes into action.\n",
    "\n",
    "Here each work is assigned to someone. so that it may be easier to handle the task.\n"
   ]
  },
  {
   "cell_type": "markdown",
   "metadata": {},
   "source": [
    "**For example:**\n",
    "\n",
    "Consider, we need to create a Virtual Restaurant. When we create a Virtual restaurant, we need to create Virtual chef, virtual waiter, virtual cleaner.\n",
    "\n",
    "Lets model a waiter :\n",
    "\n",
    "there are two things we need to see there. [what it has], [what it does].\n",
    "\n",
    "[what it has]:\n",
    "\n",
    "we can assign a variable ==> holding_a_plate = True (or) False.\n",
    "\n",
    "or which table is it responsible for ==> tables_responsible = [4,5,6].\n",
    "\n",
    "[what it does]:\n",
    "\n",
    "may be it can take order to the chef and may it also need to be take payments and add money to the restaurant. in that case, we can code like this:\n",
    "\n",
    "def take_order(table,order):\n",
    "    #takes order to chef\n",
    "\n",
    "def take_payment(amount):\n",
    "    #add money to the restaurant\n",
    "\n",
    "here we can technicaly say the [what is has] ==> **attributes** and [what it does] ==> **methods** and the [waiter] ==> **model**.\n",
    "\n",
    "attribute is basically a variable that is attached to the particular model.\n",
    "\n",
    "method is a function that a particular model can do.\n",
    "\n",
    "\n",
    "### Point to remember\n",
    "\n",
    "**These are not free floating function or free floating variable. beacuse the particular attribute and the particular method is assigned to the particular model.**\n",
    "\n",
    "We can able to generate multiple versions of the object. \n",
    "\n",
    "example: waiter ==> henry and betty\n",
    "\n",
    "here waiter is called as **class** and individual characters which are genrated using the blueprint **(class)** is called as **object**. here, **henry and betty are objects**.\n",
    "\n",
    "\n",
    "\n"
   ]
  },
  {
   "cell_type": "markdown",
   "metadata": {},
   "source": [
    "Let consider a car.\n",
    "\n",
    "so the blueprint of the car is said to be **class** and it may contain:\n",
    "\n",
    "    -> colour\n",
    "\n",
    "    -> wheels\n",
    "\n",
    "    -> milege\n",
    "\n",
    "    -> abiltiy to drive\n",
    "\n",
    "    -> ability to break\n",
    "\n",
    "    etc.,\n",
    "\n",
    "now we can create a **object** from the blueprint **object** is like\n",
    "\n",
    "    ==> car = CarBlueprint()\n",
    "\n",
    "Here **car** is the **object**, and the **CarBlueprint()** is the **class**. because we created **car** from the **CarBlueprint()**.\n",
    "\n",
    "\n",
    "**Note**: classes should be in capital.\n",
    "\n",
    "\n",
    "Let we can construct a code using class. Here  we are going to use the class which is predefined by someone.\n",
    "\n",
    "**Example**: Turtle is a predifned class wich can able to aint or draw something.. it is defined as the turtle with a paintbrush in its back. it is having different brush, colors, etc.,\n",
    "\n",
    "turtle documentation: https://docs.python.org/3/library/turtle.html\n"
   ]
  },
  {
   "cell_type": "code",
   "execution_count": 10,
   "metadata": {},
   "outputs": [
    {
     "name": "stdout",
     "output_type": "stream",
     "text": [
      "<turtle.Turtle object at 0x000001AE2C0D0310>\n",
      "300\n"
     ]
    }
   ],
   "source": [
    "# import turtle\n",
    "\n",
    "# paint = turtle.Turtle()              \n",
    "# Turtle is the class in the turtle package and\n",
    "# The Class is always started using uppercase\n",
    "# here \"paint\" the object. just like assigning variable to a function.\n",
    "\n",
    "# we can also use this code ↓\n",
    "\n",
    "from turtle import Turtle, Screen\n",
    "paint = Turtle()\n",
    "\n",
    "print(paint)  #<- an seperate window will be opened with a arrow.\n",
    "paint.shape(\"triangle\") # triangle shaped brush had been created.\n",
    "paint.color('coral') # changes the colour of the pen\n",
    "paint.forward(100) # moves 150 px\n",
    "\n",
    "my_screen = Screen()\n",
    "print(my_screen.canvheight)\n",
    "my_screen.exitonclick()   #exit the code when i am clicking on the screen\n",
    "\n",
    "\n"
   ]
  }
 ],
 "metadata": {
  "kernelspec": {
   "display_name": "Python 3",
   "language": "python",
   "name": "python3"
  },
  "language_info": {
   "codemirror_mode": {
    "name": "ipython",
    "version": 3
   },
   "file_extension": ".py",
   "mimetype": "text/x-python",
   "name": "python",
   "nbconvert_exporter": "python",
   "pygments_lexer": "ipython3",
   "version": "3.11.4"
  },
  "orig_nbformat": 4
 },
 "nbformat": 4,
 "nbformat_minor": 2
}
