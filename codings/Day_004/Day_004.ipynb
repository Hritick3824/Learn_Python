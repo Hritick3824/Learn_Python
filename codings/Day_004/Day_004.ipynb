{
 "cells": [
  {
   "cell_type": "markdown",
   "id": "267004b5",
   "metadata": {},
   "source": [
    "# Random Module"
   ]
  },
  {
   "cell_type": "code",
   "execution_count": 5,
   "id": "2cefd2f4",
   "metadata": {},
   "outputs": [
    {
     "name": "stdout",
     "output_type": "stream",
     "text": [
      "4\n"
     ]
    }
   ],
   "source": [
    "import random\n",
    "#randint(a,b) gives ramdom number which ranges between a and b\n",
    "random_integer = random.randint(1,10)\n",
    "print(random_integer)"
   ]
  },
  {
   "cell_type": "code",
   "execution_count": 7,
   "id": "e19f705d",
   "metadata": {},
   "outputs": [
    {
     "name": "stdout",
     "output_type": "stream",
     "text": [
      "0.5263103349215588\n"
     ]
    }
   ],
   "source": [
    "#random() gives a decimal number between (0.0, 1.0)  by default\n",
    "random_float = random.random()\n",
    "print(random_float)"
   ]
  },
  {
   "cell_type": "code",
   "execution_count": 8,
   "id": "e3f119e8",
   "metadata": {},
   "outputs": [
    {
     "name": "stdout",
     "output_type": "stream",
     "text": [
      "4.410377157282309\n"
     ]
    }
   ],
   "source": [
    "#random()*x gives random decimal number lies between (0.0, x.0)\n",
    "random_float_5 = random.random()*5\n",
    "print(random_float_5)"
   ]
  },
  {
   "cell_type": "markdown",
   "id": "a0e39225",
   "metadata": {},
   "source": [
    "## Task\n",
    "To write a virtual coin task program.\n",
    "It will randomly tell the user \"Heads or Tails\"\n",
    "### Important\n",
    "The first letter should be Capital.\n",
    "\n",
    "Generate a random number 0/1 and use 0 as Heads and 1 as Tails"
   ]
  },
  {
   "cell_type": "code",
   "execution_count": 19,
   "id": "a76670a3",
   "metadata": {
    "scrolled": true
   },
   "outputs": [
    {
     "name": "stdout",
     "output_type": "stream",
     "text": [
      "..WELCOME TO VIRTUAL TOSS..\n",
      "Heads\n"
     ]
    }
   ],
   "source": [
    "import random\n",
    "print(\"..WELCOME TO VIRTUAL TOSS..\")    #label\n",
    "\n",
    "toss = random.randint(0,1)              #generating a random number\n",
    "if toss == 1:                           #mapping 1 as Tails\n",
    "    print(\"Tails\")                      \n",
    "else:                                   #mapping 0 as Heads\n",
    "    print(\"Heads\")"
   ]
  },
  {
   "cell_type": "markdown",
   "id": "860bd800",
   "metadata": {},
   "source": [
    "------"
   ]
  },
  {
   "cell_type": "markdown",
   "id": "6eb744fe",
   "metadata": {},
   "source": [
    "# Lists"
   ]
  },
  {
   "cell_type": "code",
   "execution_count": 21,
   "id": "f05a07ba",
   "metadata": {},
   "outputs": [
    {
     "name": "stdout",
     "output_type": "stream",
     "text": [
      "['chennai', 'coimbatore', 'madurai']\n"
     ]
    }
   ],
   "source": [
    "tamilnadu = ['chennai','coimbatore','madurai']  #list\n",
    "print(tamilnadu)"
   ]
  },
  {
   "cell_type": "code",
   "execution_count": 22,
   "id": "cde11dcd",
   "metadata": {},
   "outputs": [
    {
     "name": "stdout",
     "output_type": "stream",
     "text": [
      "['chennai', 'coimbatore', 'madurai', 'salem']\n"
     ]
    }
   ],
   "source": [
    "# .append(x) adds x to the list\n",
    "# x may be any datatype\n",
    "tamilnadu.append('salem')\n",
    "print(tamilnadu)"
   ]
  },
  {
   "cell_type": "code",
   "execution_count": 23,
   "id": "df38c5b6",
   "metadata": {},
   "outputs": [],
   "source": [
    "# .insert(i,x) adds x to the list at the 'i' th index\n",
    "# .remove(x) removes x in the list"
   ]
  },
  {
   "cell_type": "code",
   "execution_count": 24,
   "id": "d1267cab",
   "metadata": {},
   "outputs": [
    {
     "data": {
      "text/plain": [
       "'madurai'"
      ]
     },
     "execution_count": 24,
     "metadata": {},
     "output_type": "execute_result"
    }
   ],
   "source": [
    "# list[i] gives the 'i'th element in the list\n",
    "tamilnadu[2]"
   ]
  },
  {
   "cell_type": "markdown",
   "id": "09f4d4a7",
   "metadata": {},
   "source": [
    "## Task\n",
    "To write a code which will select a random name from a list of names.\n",
    "The person seleccted will have to pay for everybody's food bill.\n",
    "\n",
    "### Hint\n",
    "\n",
    "1. Get everybody's name seperated by a comma and space (\", \")\n",
    "2. Use .split(\", \") to convert the string into a list which seperates by identifying the cheracters given in the brackets"
   ]
  },
  {
   "cell_type": "code",
   "execution_count": 30,
   "id": "c79808d5",
   "metadata": {},
   "outputs": [
    {
     "name": "stdout",
     "output_type": "stream",
     "text": [
      "Enter everyone's names seperated by ',' and ' ' :aswin, hritick, karthi\n",
      "List of peoples are ==> ['aswin', 'hritick', 'karthi']\n",
      "karthi should pay the bill for all\n"
     ]
    }
   ],
   "source": [
    "# getting everybody's name as single string\n",
    "names_string = input(\"Enter everyone's names seperated by ',' and ' ' :\")\n",
    "# converting the string into list\n",
    "name_list = names_string.split(\", \")\n",
    "print(f\"List of peoples are ==> {name_list}\")\n",
    "\n",
    "# random selection\n",
    "import random\n",
    "# random.sample(list, x) gives random \"x\" no of elements in the \"list\"\n",
    "random_person = random.sample(name_list,1)\n",
    "print(random_person[0],\"should pay the bill for all\")"
   ]
  },
  {
   "cell_type": "code",
   "execution_count": 31,
   "id": "e6cb1531",
   "metadata": {},
   "outputs": [
    {
     "name": "stdout",
     "output_type": "stream",
     "text": [
      "[['apple', 'banana', 'cucumber'], ['onion', 'brinjal']]\n"
     ]
    }
   ],
   "source": [
    "# list inside a list is known as nested list\n",
    "fruits = ['apple','banana','cucumber']   # list 1\n",
    "vegetables = ['onion','brinjal']         # list 2\n",
    "# combining 2 lists we get nested list\n",
    "list_nest = [fruits, vegetables]\n",
    "print(list_nest)"
   ]
  },
  {
   "cell_type": "markdown",
   "id": "8c95e31f",
   "metadata": {},
   "source": [
    "-----"
   ]
  },
  {
   "cell_type": "markdown",
   "id": "323e97dd",
   "metadata": {},
   "source": [
    "# Task\n",
    "To write a program which will mark a spot with an 'x'.\n",
    "\n",
    "The map is made of 3 rows of 0s\n",
    "\n",
    "[0,0,0]\n",
    "\n",
    "[0,0,0]\n",
    "\n",
    "[0,0,0]\n",
    "\n",
    "The program should allow you to enter the position of the treasure using a two-digit system.\n",
    "\n",
    "The first digit is the horizontal column and the seccond digit is the Vertical row number."
   ]
  },
  {
   "cell_type": "code",
   "execution_count": 33,
   "id": "add41328",
   "metadata": {},
   "outputs": [
    {
     "name": "stdout",
     "output_type": "stream",
     "text": [
      "map \n",
      "[0, 0, 0]\n",
      "[0, 0, 0]\n",
      "[0, 0, 0]\n",
      "where do you need to keep the treasure:?32\n",
      "the position of the treasure that you need is 32\n",
      "the map containing treasure \n",
      "[0, 0, 0]\n",
      "[0, 0, 0]\n",
      "[0, 'X', 0]\n"
     ]
    }
   ],
   "source": [
    "# don't change this code below\n",
    "row1 = [0,0,0]\n",
    "row2 = [0,0,0]\n",
    "row3 = [0,0,0]\n",
    "map = [row1,row2,row3]\n",
    "print(\"map\",f\"\\n{row1}\\n{row2}\\n{row3}\")\n",
    "position = input(\"where do you need to keep the treasure:?\")\n",
    "print(f\"the position of the treasure that you need is {position}\")\n",
    "# don't change this code above\n",
    "# your code\n",
    "column = int(position[0])-1            # -1 because programming counts from 0\n",
    "row = int(position[1])-1\n",
    "map[column][row] = 'X'\n",
    "print(\"the map containing treasure\",f\"\\n{row1}\\n{row2}\\n{row3}\")"
   ]
  }
 ],
 "metadata": {
  "kernelspec": {
   "display_name": "Python 3 (ipykernel)",
   "language": "python",
   "name": "python3"
  },
  "language_info": {
   "codemirror_mode": {
    "name": "ipython",
    "version": 3
   },
   "file_extension": ".py",
   "mimetype": "text/x-python",
   "name": "python",
   "nbconvert_exporter": "python",
   "pygments_lexer": "ipython3",
   "version": "3.11.3"
  }
 },
 "nbformat": 4,
 "nbformat_minor": 5
}
