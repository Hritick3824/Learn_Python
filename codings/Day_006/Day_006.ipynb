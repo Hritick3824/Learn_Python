{
 "cells": [
  {
   "cell_type": "markdown",
   "id": "722bb1ca",
   "metadata": {},
   "source": [
    "# Functions"
   ]
  },
  {
   "cell_type": "markdown",
   "id": "9910a4fa",
   "metadata": {},
   "source": [
    "## Built-in-Functions\n",
    "\n",
    "The python interpreter has a number of functions and types built into it and that are always available.\n",
    "**Example :** abs(), all(), float(), sum(), max(), min(), int(), bin(),etc.,"
   ]
  },
  {
   "cell_type": "markdown",
   "id": "78e803d3",
   "metadata": {},
   "source": [
    "## User-Defined Functions\n",
    "\n",
    "Human created Functions are known as User-Defined Function. **'def'** is the keyword used to define a function and followed by function name, paranthesis and a colon.\n",
    "\n",
    "**Syntax**\n",
    "\n",
    "    def my_function():\n",
    "    \n",
    "We need to trigger the function **i.e.,** calling the function. for that we call the function by using func_name and paranthesis and keyword is any inside the paranthesis "
   ]
  },
  {
   "cell_type": "code",
   "execution_count": 1,
   "id": "f922fa18",
   "metadata": {},
   "outputs": [
    {
     "name": "stdout",
     "output_type": "stream",
     "text": [
      "Hello\n",
      "World\n"
     ]
    }
   ],
   "source": [
    "# Example for user-defined function\n",
    "\n",
    "# defining a function\n",
    "def hello_world():\n",
    "    print('Hello')\n",
    "    print('World')\n",
    "    \n",
    "# calling a function\n",
    "hello_world()"
   ]
  },
  {
   "cell_type": "markdown",
   "id": "f79eca01",
   "metadata": {},
   "source": [
    "-------"
   ]
  },
  {
   "cell_type": "markdown",
   "id": "2f782cf4",
   "metadata": {},
   "source": [
    "# While Loops\n",
    "\n",
    "While loop continues going till the condition come true\n",
    "\n",
    "**Syntax**\n",
    "\n",
    "    while Something_is_True:\n",
    "        # do something repeatedly"
   ]
  },
  {
   "cell_type": "code",
   "execution_count": 3,
   "id": "9a62a5e4",
   "metadata": {},
   "outputs": [
    {
     "name": "stdout",
     "output_type": "stream",
     "text": [
      "I LOVE PYTHON\n",
      "I LOVE PYTHON\n",
      "I LOVE PYTHON\n",
      "I LOVE PYTHON\n",
      "I LOVE PYTHON\n",
      "I LOVE PYTHON\n",
      "I LOVE PYTHON\n",
      "I LOVE PYTHON\n",
      "I LOVE PYTHON\n",
      "I LOVE PYTHON\n",
      "I LOVE PYTHON\n",
      "I LOVE PYTHON\n",
      "I LOVE PYTHON\n",
      "I LOVE PYTHON\n",
      "I LOVE PYTHON\n",
      "I LOVE PYTHON\n",
      "I LOVE PYTHON\n",
      "I LOVE PYTHON\n",
      "I LOVE PYTHON\n",
      "I LOVE PYTHON\n"
     ]
    }
   ],
   "source": [
    "# Example for While loop\n",
    "\n",
    "a = 0\n",
    "while a < 20:              # condition is while a is less than 100\n",
    "    print(\"I LOVE PYTHON\")  # do this\n",
    "    a += 1                  # update the value of a for each iteration"
   ]
  }
 ],
 "metadata": {
  "kernelspec": {
   "display_name": "Python 3 (ipykernel)",
   "language": "python",
   "name": "python3"
  },
  "language_info": {
   "codemirror_mode": {
    "name": "ipython",
    "version": 3
   },
   "file_extension": ".py",
   "mimetype": "text/x-python",
   "name": "python",
   "nbconvert_exporter": "python",
   "pygments_lexer": "ipython3",
   "version": "3.11.3"
  }
 },
 "nbformat": 4,
 "nbformat_minor": 5
}
