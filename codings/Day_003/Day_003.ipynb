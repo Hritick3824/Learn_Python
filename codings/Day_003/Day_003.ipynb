{
 "cells": [
  {
   "cell_type": "code",
   "execution_count": 5,
   "metadata": {},
   "outputs": [
    {
     "name": "stdout",
     "output_type": "stream",
     "text": [
      "Welcome to the rollercoaster!\n",
      "You are allowed to ride the rollercoaster\n"
     ]
    }
   ],
   "source": [
    "# Simple usage of if, else statements\n",
    "\n",
    "print('Welcome to the rollercoaster!')\n",
    "height = int(input('What is your height in cm? '))\n",
    "\n",
    "if height >= 120:\n",
    "    print('You are allowed to ride the rollercoaster')\n",
    "else:\n",
    "    print('Sorry, You are not allowed to ride the rollercoaster')"
   ]
  },
  {
   "cell_type": "markdown",
   "metadata": {},
   "source": [
    "Comparison Operators"
   ]
  },
  {
   "cell_type": "code",
   "execution_count": null,
   "metadata": {},
   "outputs": [],
   "source": [
    "# Operators               Meanings\n",
    "\n",
    "# >                       Greater Than\n",
    "# <                       Less than\n",
    "# >=                      Greater than or equal to\n",
    "# <=                      Less than or equal to\n",
    "# ==                      Equal To\n",
    "# !=                      Not equal to"
   ]
  },
  {
   "cell_type": "markdown",
   "metadata": {},
   "source": [
    "Coding Exercise -1"
   ]
  },
  {
   "cell_type": "code",
   "execution_count": null,
   "metadata": {},
   "outputs": [],
   "source": [
    "# The modulo is written as a percentage sign (%) in Python. \n",
    "# It gives you the remainder after a division.\n",
    "\n",
    "# 6 ÷ 2 = 3 with no remainder.\n",
    "\n",
    "# therefore: 6 % 2 = 0\n",
    "\n",
    "# 5 ÷ 2 = 2 x 2 + 1, remainder is 1.\n",
    "\n",
    "# therefore: 5 % 2 = 1\n",
    "\n",
    "# 14 ÷ 4 = 3 x 4 + 2, remainder is 2.\n",
    "\n",
    "# therefore: 14 % 4 = 2"
   ]
  },
  {
   "cell_type": "markdown",
   "metadata": {},
   "source": [
    "Identifying The odd or even number "
   ]
  },
  {
   "cell_type": "code",
   "execution_count": 8,
   "metadata": {},
   "outputs": [
    {
     "name": "stdout",
     "output_type": "stream",
     "text": [
      "This is an even number\n"
     ]
    }
   ],
   "source": [
    "number = int(input('Which number do you want to check? '))\n",
    "a = number % 2\n",
    "\n",
    "if a == 0:\n",
    "    print('This is an even number')\n",
    "else:\n",
    "    print('This is an odd number')"
   ]
  },
  {
   "cell_type": "markdown",
   "metadata": {},
   "source": [
    "Nested if and else statements"
   ]
  },
  {
   "cell_type": "code",
   "execution_count": 25,
   "metadata": {},
   "outputs": [
    {
     "name": "stdout",
     "output_type": "stream",
     "text": [
      "Welcome to the rollercoaster!\n",
      "Your height is 180 cm\n",
      "You are allowed to ride the rollercoaster\n",
      "Your age is 45\n",
      "You have a free ride\n",
      "Your photo price is 3\n",
      "The total bill is 3\n"
     ]
    }
   ],
   "source": [
    "print('Welcome to the rollercoaster!')\n",
    "height = int(input('What is your height in cm? '))\n",
    "print(f'Your height is {height} cm')\n",
    "bill = 0\n",
    "\n",
    "if height >= 120:\n",
    "    print('You are allowed to ride the rollercoaster')\n",
    "    age = int(input('What is your age? '))\n",
    "    print(f'Your age is {age}')    \n",
    "    if age >= 18 and age < 45:\n",
    "        bill = 12\n",
    "        print('Your ticket price is 12')\n",
    "    elif age < 12:\n",
    "        bill = 5\n",
    "        print('The ticket price is 5')\n",
    "    elif age >= 12 and age < 18:\n",
    "        bill = 7\n",
    "        print('your ticket price is 7 ')\n",
    "    elif age >= 45 and age <= 55:\n",
    "        bill = 0\n",
    "        print('You have a free ride')\n",
    "    photo = input('Do you want a photo? Press Y for yes or N For no')\n",
    "    if photo =='y':\n",
    "        bill = bill + 3\n",
    "        print('Your photo price is 3')\n",
    "    print(f'The total bill is {bill}')\n",
    "else:\n",
    "    print('Sorry, You are not allowed to ride the rollercoaster') "
   ]
  },
  {
   "cell_type": "markdown",
   "metadata": {},
   "source": [
    "Coding exercise 2"
   ]
  },
  {
   "cell_type": "markdown",
   "metadata": {},
   "source": [
    "BMI 2.0"
   ]
  },
  {
   "cell_type": "code",
   "execution_count": null,
   "metadata": {},
   "outputs": [],
   "source": [
    "# It should tell them the interpretation of their BMI based on the BMI value.\n",
    "\n",
    "# Under 18.5 they are underweight\n",
    "# Over 18.5 but below 25 they have a normal weight\n",
    "# Over 25 but below 30 they are slightly overweight\n",
    "# Over 30 but below 35 they are obese\n",
    "# Above 35 they are clinically obese."
   ]
  },
  {
   "cell_type": "code",
   "execution_count": 3,
   "metadata": {},
   "outputs": [
    {
     "name": "stdout",
     "output_type": "stream",
     "text": [
      "Your heigth is 1.8 m\n",
      "Your weight is 68.0 kg\n",
      "Your BMI is 21, you have a normal weight.\n"
     ]
    }
   ],
   "source": [
    "# Don't change the code below \n",
    "height = float(input(\"enter your height in m: \"))\n",
    "weight = float(input(\"enter your weight in kg: \"))\n",
    "# Don't change the code above \n",
    "\n",
    "# Write your code below this line\n",
    "print(f'Your heigth is {height} m')\n",
    "print(f'Your weight is {weight} kg') \n",
    "BMI = weight / height**2\n",
    "bmi = round(BMI)\n",
    "if bmi < 18.5:\n",
    "    print(f'Your BMI is {bmi}, you are underweight.')\n",
    "elif bmi < 25:\n",
    "    print(f'Your BMI is {bmi}, you have a normal weight.')\n",
    "elif bmi < 30:\n",
    "    print(f'Your BMI is {bmi}, you are slightly overweight.')\n",
    "elif bmi < 35:\n",
    "    print(f'YOur BMI is {bmi}, you are obese.')\n",
    "else:\n",
    "    print(f'Your BMI is {bmi}, you are clinically obese.')"
   ]
  },
  {
   "cell_type": "markdown",
   "metadata": {},
   "source": [
    "Coding exercise - Leep Year"
   ]
  },
  {
   "cell_type": "code",
   "execution_count": null,
   "metadata": {},
   "outputs": [],
   "source": [
    "# This is how you work out whether if a particular year is a leap year.\n",
    "\n",
    "# on every year that is evenly divisible by 4 \n",
    "\n",
    "# **except** every year that is evenly divisible by 100 \n",
    "\n",
    "# **unless** the year is also evenly divisible by 400"
   ]
  },
  {
   "cell_type": "code",
   "execution_count": null,
   "metadata": {},
   "outputs": [],
   "source": [
    "# e.g. The year 2000:\n",
    "\n",
    "# 2000 ÷ 4 = 500 (Leap)\n",
    "\n",
    "# 2000 ÷ 100 = 20 (Not Leap)\n",
    "\n",
    "# 2000 ÷ 400 = 5 (Leap!)\n",
    "\n",
    "# So the year 2000 is a leap year.\n",
    "\n",
    "# But the year 2100 is not a leap year because:\n",
    "\n",
    "# 2100 ÷ 4 = 525 (Leap)\n",
    "\n",
    "# 2100 ÷ 100 = 21 (Not Leap)\n",
    "\n",
    "# 2100 ÷ 400 = 5.25 (Not Leap)"
   ]
  },
  {
   "cell_type": "code",
   "execution_count": 10,
   "metadata": {},
   "outputs": [
    {
     "name": "stdout",
     "output_type": "stream",
     "text": [
      "The year entered is 2024\n",
      "The Year 2024 is a Leap Year\n"
     ]
    }
   ],
   "source": [
    "# Don't change the code below \n",
    "year = int(input(\"Which year do you want to check? \"))\n",
    "# Don't change the code above \n",
    "\n",
    "#Write your code below this line\n",
    "print(f'The year entered is {year}') \n",
    "if (year % 4) == 0:\n",
    "    if (year % 100) == 0:\n",
    "        if (year % 400) == 0:\n",
    "            print(f'The Year {year} is a Leap Year')\n",
    "        else:\n",
    "            print(f'The Year {year} is Not a Leap Year')\n",
    "    else:\n",
    "        print(f'The Year {year} is a Leap Year')\n",
    "else:\n",
    "    print(f'The Year {year} is Not a Leap Year')"
   ]
  },
  {
   "cell_type": "markdown",
   "metadata": {},
   "source": [
    "Coding exercise - Pizza order "
   ]
  },
  {
   "cell_type": "code",
   "execution_count": 18,
   "metadata": {},
   "outputs": [],
   "source": [
    "# Based on a user's order, work out their final bill.\n",
    "\n",
    "# Small Pizza: $15\n",
    "\n",
    "# Medium Pizza: $20\n",
    "\n",
    "# Large Pizza: $25\n",
    "\n",
    "# Pepperoni for Small Pizza: +$2\n",
    "\n",
    "# Pepperoni for Medium or Large Pizza: +$3\n",
    "\n",
    "# Extra cheese for any size pizza: + $1"
   ]
  },
  {
   "cell_type": "code",
   "execution_count": 22,
   "metadata": {},
   "outputs": [
    {
     "name": "stdout",
     "output_type": "stream",
     "text": [
      "Welcome to Python Pizza Deliveries!\n",
      "Your final bill is: 29.\n"
     ]
    }
   ],
   "source": [
    "# Don't change the code below \n",
    "print(\"Welcome to Python Pizza Deliveries!\")\n",
    "size = input(\"What size pizza do you want? S, M, or L \")\n",
    "add_pepperoni = input(\"Do you want pepperoni? Y or N \")\n",
    "extra_cheese = input(\"Do you want extra cheese? Y or N \")\n",
    "# Don't change the code above \n",
    "\n",
    "#Write your code below this line \n",
    "rate = 0\n",
    "if size == \"S\":\n",
    "    rate = 15\n",
    "    if add_pepperoni == \"Y\":\n",
    "        rate = rate + 2 \n",
    "    if extra_cheese == \"Y\":\n",
    "            rate = rate + 1\n",
    "\n",
    "elif size == \"M\":\n",
    "    rate = 20\n",
    "    if add_pepperoni == \"Y\":\n",
    "        rate = rate + 3\n",
    "    if extra_cheese == \"Y\":\n",
    "            rate = rate + 1\n",
    "\n",
    "elif size == \"L\":\n",
    "    rate = 25\n",
    "    if add_pepperoni == \"Y\":\n",
    "        rate = rate + 3\n",
    "    if extra_cheese == \"Y\":\n",
    "            rate = rate + 1\n",
    "\n",
    "print(f'Your final bill is: {rate}.')"
   ]
  },
  {
   "cell_type": "markdown",
   "metadata": {},
   "source": [
    "Logical Operators"
   ]
  },
  {
   "cell_type": "code",
   "execution_count": null,
   "metadata": {},
   "outputs": [],
   "source": [
    "# and  - Activates when two conditions are True\n",
    "# or   - Activates when any one condition is  True\n",
    "# not  - Activates when two conditions are False"
   ]
  },
  {
   "cell_type": "code",
   "execution_count": 26,
   "metadata": {},
   "outputs": [
    {
     "name": "stdout",
     "output_type": "stream",
     "text": [
      "Welcome to the rollercoaster!\n",
      "Your height is 179 cm\n",
      "You are allowed to ride the rollercoaster\n",
      "Your age is 19\n",
      "Your ticket price is 12\n",
      "Your photo price is 3\n",
      "The total bill is 15\n"
     ]
    }
   ],
   "source": [
    "print('Welcome to the rollercoaster!')\n",
    "height = int(input('What is your height in cm? '))\n",
    "print(f'Your height is {height} cm')\n",
    "bill = 0\n",
    "\n",
    "if height >= 120:\n",
    "    print('You are allowed to ride the rollercoaster')\n",
    "    age = int(input('What is your age? '))\n",
    "    print(f'Your age is {age}')    \n",
    "    if age >= 18 and age < 45:\n",
    "        bill = 12\n",
    "        print('Your ticket price is 12')\n",
    "    elif age < 12:\n",
    "        bill = 5\n",
    "        print('The ticket price is 5')\n",
    "    elif age >= 12 and age < 18:\n",
    "        bill = 7\n",
    "        print('your ticket price is 7 ')\n",
    "    elif age >= 45 and age <= 55:\n",
    "        bill = 0\n",
    "        print('You have a free ride')\n",
    "    photo = input('Do you want a photo? Press Y for yes or N For no')\n",
    "    if photo =='y':\n",
    "        bill = bill + 3\n",
    "        print('Your photo price is 3')\n",
    "    print(f'The total bill is {bill}')\n",
    "else:\n",
    "    print('Sorry, You are not allowed to ride the rollercoaster')"
   ]
  },
  {
   "cell_type": "markdown",
   "metadata": {},
   "source": [
    "Coding exercise - Love Calculator"
   ]
  },
  {
   "cell_type": "code",
   "execution_count": 29,
   "metadata": {},
   "outputs": [
    {
     "name": "stdout",
     "output_type": "stream",
     "text": [
      "Welcome to the Love Calculator!\n",
      "6\n",
      "2\n",
      "Your score is 62.\n"
     ]
    }
   ],
   "source": [
    "# Don't change the code below \n",
    "print(\"Welcome to the Love Calculator!\")\n",
    "name1 = input(\"What is your name? \\n\")\n",
    "name2 = input(\"What is their name? \\n\")\n",
    "# Don't change the code above \n",
    "\n",
    "#Write your code below this line \n",
    "name_1 = name1.lower()\n",
    "name_2 = name2.lower()\n",
    "name = (name_1 + name_2)\n",
    "\n",
    "t = name.count('t')\n",
    "r = name.count('r')\n",
    "u = name.count('u')\n",
    "e = name.count('e')\n",
    "\n",
    "true = (t+ r + u + e)\n",
    "print(true)\n",
    "\n",
    "l = name.count('l')\n",
    "o = name.count('o')\n",
    "v = name.count('v')\n",
    "e = name.count('e')\n",
    "\n",
    "love = (l + o + v + e)\n",
    "print(love)\n",
    "true_love = str(true) + str(love)\n",
    "true_love1 = int(true_love)\n",
    "# print(true_love)\n",
    "if true_love1 < 10 or true_love1 > 90:\n",
    "    print(f'Your score is {true_love}, you go together like coke and mentos.')\n",
    "elif true_love1 >= 40 and true_love1 <= 50:\n",
    "    print(f'Your score is {true_love}, you are alright together.')\n",
    "else:\n",
    "    print(f'Your score is {true_love}.')"
   ]
  }
 ],
 "metadata": {
  "kernelspec": {
   "display_name": "Python 3",
   "language": "python",
   "name": "python3"
  },
  "language_info": {
   "codemirror_mode": {
    "name": "ipython",
    "version": 3
   },
   "file_extension": ".py",
   "mimetype": "text/x-python",
   "name": "python",
   "nbconvert_exporter": "python",
   "pygments_lexer": "ipython3",
   "version": "3.11.4"
  },
  "orig_nbformat": 4
 },
 "nbformat": 4,
 "nbformat_minor": 2
}
